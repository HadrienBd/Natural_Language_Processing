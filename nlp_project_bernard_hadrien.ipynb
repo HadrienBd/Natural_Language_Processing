{
  "nbformat": 4,
  "nbformat_minor": 0,
  "metadata": {
    "accelerator": "GPU",
    "colab": {
      "name": "nlp_project_bernard_hadrien.ipynb",
      "provenance": [],
      "collapsed_sections": [],
      "toc_visible": true,
      "mount_file_id": "1ZJ3C-zsNTm_0oMcqDlHYaBY-7UcfNAJr",
      "authorship_tag": "ABX9TyPfMYBbAIh6zjxyV506Vddk",
      "include_colab_link": true
    },
    "kernelspec": {
      "display_name": "Python 3",
      "name": "python3"
    }
  },
  "cells": [
    {
      "cell_type": "markdown",
      "metadata": {
        "id": "view-in-github",
        "colab_type": "text"
      },
      "source": [
        "<a href=\"https://colab.research.google.com/github/HadrienBd/Natural_Language_Processing/blob/main/nlp_project_bernard_hadrien.ipynb\" target=\"_parent\"><img src=\"https://colab.research.google.com/assets/colab-badge.svg\" alt=\"Open In Colab\"/></a>"
      ]
    },
    {
      "cell_type": "markdown",
      "metadata": {
        "id": "jYEJBqqP0wfR"
      },
      "source": [
        "# **Sentiment analysis**"
      ]
    },
    {
      "cell_type": "markdown",
      "metadata": {
        "id": "1ZXke3ChwrSV"
      },
      "source": [
        "## Sommaire\r\n",
        "\r\n",
        "- [Data preparation](#1)\r\n",
        "    - [Importing libraries](#2)\r\n",
        "    - [Importing data](#3)\r\n",
        "    - [Cleaning data](#4)\r\n",
        "    - [Displaying vocabulary](#5)\r\n",
        "- [Model preparation](#6)\r\n",
        "    - [Shuffle dataset](#6)\r\n",
        "    - [Tokenization](#8)\r\n",
        "    - [Word embedding](#9)\r\n",
        "- [Model training](#10)\r\n",
        "    - [Long Short-Term Memory](#10)\r\n",
        "    - [Training](#11)\r\n",
        "- [Model evaluation](#12)\r\n",
        "    - [Learning Curve of loss and accuracy](#12)\r\n",
        "    - [Confusion matrix](#13)\r\n",
        "    - [Classification scores](#14)\r\n",
        "    - [Saving model](#15)\r\n",
        "- [Testing our model](#16)\r\n",
        "    - [Pipeline](#16)\r\n",
        "\r\n"
      ]
    },
    {
      "cell_type": "markdown",
      "metadata": {
        "id": "KrFGmt-d2QDE"
      },
      "source": [
        "<a name='1'></a>\r\n",
        "##Data prepatation"
      ]
    },
    {
      "cell_type": "markdown",
      "metadata": {
        "id": "ia1d2tK1xKXe"
      },
      "source": [
        "<a name='2'></a>\r\n",
        "###First step : Importing libraries"
      ]
    },
    {
      "cell_type": "code",
      "metadata": {
        "colab": {
          "base_uri": "https://localhost:8080/"
        },
        "id": "IQ8q2HiOvLpC",
        "outputId": "244265f6-0efa-49c5-9f75-1ac219f7cf32"
      },
      "source": [
        "import tensorflow as tf\r\n",
        "import matplotlib.pyplot as plt\r\n",
        "import pandas as pd\r\n",
        "import numpy as np\r\n",
        "\r\n",
        "import nltk \r\n",
        "nltk.download('stopwords')\r\n",
        "from nltk.corpus import stopwords\r\n",
        "from nltk.stem.snowball import EnglishStemmer\r\n",
        "\r\n",
        "from sklearn.model_selection import train_test_split\r\n",
        "from sklearn.preprocessing import LabelEncoder\r\n",
        "import re"
      ],
      "execution_count": 1,
      "outputs": [
        {
          "output_type": "stream",
          "text": [
            "[nltk_data] Downloading package stopwords to /root/nltk_data...\n",
            "[nltk_data]   Unzipping corpora/stopwords.zip.\n"
          ],
          "name": "stdout"
        }
      ]
    },
    {
      "cell_type": "markdown",
      "metadata": {
        "id": "jLfy9051S-gi"
      },
      "source": [
        "<a name='3'></a>\r\n",
        "###Importing data"
      ]
    },
    {
      "cell_type": "code",
      "metadata": {
        "colab": {
          "base_uri": "https://localhost:8080/"
        },
        "id": "KKZQUfyjylcV",
        "outputId": "b0c28103-6433-4b97-9c82-d24446d4c045"
      },
      "source": [
        "from google.colab import drive\r\n",
        "drive.mount('/content/gdrive', force_remount=True)"
      ],
      "execution_count": 2,
      "outputs": [
        {
          "output_type": "stream",
          "text": [
            "Mounted at /content/gdrive\n"
          ],
          "name": "stdout"
        }
      ]
    },
    {
      "cell_type": "code",
      "metadata": {
        "id": "Swz_LjJ4yv3q"
      },
      "source": [
        "df = pd.read_csv('gdrive/MyDrive/NLP_DATA/training.1600000.processed.noemoticon.csv', encoding = \"ISO-8859-1\")\r\n",
        "df.columns = ['sentiment', 'id', 'date', 'query', 'user_id', 'original_tweet']"
      ],
      "execution_count": 3,
      "outputs": []
    },
    {
      "cell_type": "code",
      "metadata": {
        "colab": {
          "base_uri": "https://localhost:8080/",
          "height": 206
        },
        "id": "ddNFtsXAz5bB",
        "outputId": "0ada6ebe-e7b4-4157-d97c-6c5d4062cf06"
      },
      "source": [
        "df.head()"
      ],
      "execution_count": 4,
      "outputs": [
        {
          "output_type": "execute_result",
          "data": {
            "text/html": [
              "<div>\n",
              "<style scoped>\n",
              "    .dataframe tbody tr th:only-of-type {\n",
              "        vertical-align: middle;\n",
              "    }\n",
              "\n",
              "    .dataframe tbody tr th {\n",
              "        vertical-align: top;\n",
              "    }\n",
              "\n",
              "    .dataframe thead th {\n",
              "        text-align: right;\n",
              "    }\n",
              "</style>\n",
              "<table border=\"1\" class=\"dataframe\">\n",
              "  <thead>\n",
              "    <tr style=\"text-align: right;\">\n",
              "      <th></th>\n",
              "      <th>sentiment</th>\n",
              "      <th>id</th>\n",
              "      <th>date</th>\n",
              "      <th>query</th>\n",
              "      <th>user_id</th>\n",
              "      <th>original_tweet</th>\n",
              "    </tr>\n",
              "  </thead>\n",
              "  <tbody>\n",
              "    <tr>\n",
              "      <th>0</th>\n",
              "      <td>0</td>\n",
              "      <td>1467810672</td>\n",
              "      <td>Mon Apr 06 22:19:49 PDT 2009</td>\n",
              "      <td>NO_QUERY</td>\n",
              "      <td>scotthamilton</td>\n",
              "      <td>is upset that he can't update his Facebook by ...</td>\n",
              "    </tr>\n",
              "    <tr>\n",
              "      <th>1</th>\n",
              "      <td>0</td>\n",
              "      <td>1467810917</td>\n",
              "      <td>Mon Apr 06 22:19:53 PDT 2009</td>\n",
              "      <td>NO_QUERY</td>\n",
              "      <td>mattycus</td>\n",
              "      <td>@Kenichan I dived many times for the ball. Man...</td>\n",
              "    </tr>\n",
              "    <tr>\n",
              "      <th>2</th>\n",
              "      <td>0</td>\n",
              "      <td>1467811184</td>\n",
              "      <td>Mon Apr 06 22:19:57 PDT 2009</td>\n",
              "      <td>NO_QUERY</td>\n",
              "      <td>ElleCTF</td>\n",
              "      <td>my whole body feels itchy and like its on fire</td>\n",
              "    </tr>\n",
              "    <tr>\n",
              "      <th>3</th>\n",
              "      <td>0</td>\n",
              "      <td>1467811193</td>\n",
              "      <td>Mon Apr 06 22:19:57 PDT 2009</td>\n",
              "      <td>NO_QUERY</td>\n",
              "      <td>Karoli</td>\n",
              "      <td>@nationwideclass no, it's not behaving at all....</td>\n",
              "    </tr>\n",
              "    <tr>\n",
              "      <th>4</th>\n",
              "      <td>0</td>\n",
              "      <td>1467811372</td>\n",
              "      <td>Mon Apr 06 22:20:00 PDT 2009</td>\n",
              "      <td>NO_QUERY</td>\n",
              "      <td>joy_wolf</td>\n",
              "      <td>@Kwesidei not the whole crew</td>\n",
              "    </tr>\n",
              "  </tbody>\n",
              "</table>\n",
              "</div>"
            ],
            "text/plain": [
              "   sentiment  ...                                     original_tweet\n",
              "0          0  ...  is upset that he can't update his Facebook by ...\n",
              "1          0  ...  @Kenichan I dived many times for the ball. Man...\n",
              "2          0  ...    my whole body feels itchy and like its on fire \n",
              "3          0  ...  @nationwideclass no, it's not behaving at all....\n",
              "4          0  ...                      @Kwesidei not the whole crew \n",
              "\n",
              "[5 rows x 6 columns]"
            ]
          },
          "metadata": {
            "tags": []
          },
          "execution_count": 4
        }
      ]
    },
    {
      "cell_type": "code",
      "metadata": {
        "id": "9HW8-sjIvP7J"
      },
      "source": [
        "#Remove everything execpt tweet content\r\n",
        "df = df.drop(['id', 'date', 'query', 'user_id'], axis=1)"
      ],
      "execution_count": 5,
      "outputs": []
    },
    {
      "cell_type": "code",
      "metadata": {
        "colab": {
          "base_uri": "https://localhost:8080/",
          "height": 206
        },
        "id": "fsGNisYH2PcU",
        "outputId": "70207656-359e-497a-ac5e-3859547891c1"
      },
      "source": [
        "#We change label in sentiment : 0 -> Negative 4 -> Positive\r\n",
        "label_to_sentiment = {0:\"Negative\", 4:\"Positive\"}\r\n",
        "def label_decoder(label):\r\n",
        "  return label_to_sentiment[label]\r\n",
        "df.sentiment = df.sentiment.apply(lambda x: label_decoder(x))\r\n",
        "df.head()"
      ],
      "execution_count": 6,
      "outputs": [
        {
          "output_type": "execute_result",
          "data": {
            "text/html": [
              "<div>\n",
              "<style scoped>\n",
              "    .dataframe tbody tr th:only-of-type {\n",
              "        vertical-align: middle;\n",
              "    }\n",
              "\n",
              "    .dataframe tbody tr th {\n",
              "        vertical-align: top;\n",
              "    }\n",
              "\n",
              "    .dataframe thead th {\n",
              "        text-align: right;\n",
              "    }\n",
              "</style>\n",
              "<table border=\"1\" class=\"dataframe\">\n",
              "  <thead>\n",
              "    <tr style=\"text-align: right;\">\n",
              "      <th></th>\n",
              "      <th>sentiment</th>\n",
              "      <th>original_tweet</th>\n",
              "    </tr>\n",
              "  </thead>\n",
              "  <tbody>\n",
              "    <tr>\n",
              "      <th>0</th>\n",
              "      <td>Negative</td>\n",
              "      <td>is upset that he can't update his Facebook by ...</td>\n",
              "    </tr>\n",
              "    <tr>\n",
              "      <th>1</th>\n",
              "      <td>Negative</td>\n",
              "      <td>@Kenichan I dived many times for the ball. Man...</td>\n",
              "    </tr>\n",
              "    <tr>\n",
              "      <th>2</th>\n",
              "      <td>Negative</td>\n",
              "      <td>my whole body feels itchy and like its on fire</td>\n",
              "    </tr>\n",
              "    <tr>\n",
              "      <th>3</th>\n",
              "      <td>Negative</td>\n",
              "      <td>@nationwideclass no, it's not behaving at all....</td>\n",
              "    </tr>\n",
              "    <tr>\n",
              "      <th>4</th>\n",
              "      <td>Negative</td>\n",
              "      <td>@Kwesidei not the whole crew</td>\n",
              "    </tr>\n",
              "  </tbody>\n",
              "</table>\n",
              "</div>"
            ],
            "text/plain": [
              "  sentiment                                     original_tweet\n",
              "0  Negative  is upset that he can't update his Facebook by ...\n",
              "1  Negative  @Kenichan I dived many times for the ball. Man...\n",
              "2  Negative    my whole body feels itchy and like its on fire \n",
              "3  Negative  @nationwideclass no, it's not behaving at all....\n",
              "4  Negative                      @Kwesidei not the whole crew "
            ]
          },
          "metadata": {
            "tags": []
          },
          "execution_count": 6
        }
      ]
    },
    {
      "cell_type": "markdown",
      "metadata": {
        "id": "9CuhCpbCUu2Y"
      },
      "source": [
        "Display data distribution"
      ]
    },
    {
      "cell_type": "code",
      "metadata": {
        "colab": {
          "base_uri": "https://localhost:8080/",
          "height": 299
        },
        "id": "HkbAdtB22PbN",
        "outputId": "ed2db11b-d1ea-4de1-de68-de73ec81e297"
      },
      "source": [
        "val_count = df.sentiment.value_counts()\r\n",
        "\r\n",
        "plt.figure(figsize=(8,4))\r\n",
        "plt.bar(val_count.index, val_count.values)\r\n",
        "plt.title(\"Sentiment Data Distribution\")"
      ],
      "execution_count": 7,
      "outputs": [
        {
          "output_type": "execute_result",
          "data": {
            "text/plain": [
              "Text(0.5, 1.0, 'Sentiment Data Distribution')"
            ]
          },
          "metadata": {
            "tags": []
          },
          "execution_count": 7
        },
        {
          "output_type": "display_data",
          "data": {
            "image/png": "[encoded data removed]",
            "text/plain": [
              "<Figure size 576x288 with 1 Axes>"
            ]
          },
          "metadata": {
            "tags": [],
            "needs_background": "light"
          }
        }
      ]
    },
    {
      "cell_type": "markdown",
      "metadata": {
        "id": "EMycuH4sZHof"
      },
      "source": [
        "<a name='4'></a>\r\n",
        "###Cleaning data"
      ]
    },
    {
      "cell_type": "code",
      "metadata": {
        "id": "rXg86hEx2PUH"
      },
      "source": [
        "stop_words = stopwords.words('english')\r\n",
        "\r\n",
        "stemmer = EnglishStemmer()\r\n",
        "\r\n",
        "text_cleaning_re = \"@\\S+|https?:\\S+|http?:\\S|[^A-Za-z0-9]+\""
      ],
      "execution_count": 8,
      "outputs": []
    },
    {
      "cell_type": "code",
      "metadata": {
        "id": "cYe76gL62PRk"
      },
      "source": [
        "def clean_data(text, stem=False, stop=False):\r\n",
        "  text = re.sub(\"n't\", 'nt', str(text).lower()).strip()\r\n",
        "  text = re.sub(text_cleaning_re, ' ', str(text).lower()).strip()\r\n",
        "  tokens = []\r\n",
        "  for token in text.split():\r\n",
        "    if stop:\r\n",
        "      if token not in stop_words:\r\n",
        "        if stem:\r\n",
        "          tokens.append(stemmer.stem(token))\r\n",
        "        else:\r\n",
        "          tokens.append(token)  \r\n",
        "    else:\r\n",
        "      if stem:\r\n",
        "        tokens.append(stemmer.stem(token))\r\n",
        "      else:\r\n",
        "        tokens.append(token)     \r\n",
        "  return \" \".join(tokens)"
      ],
      "execution_count": 9,
      "outputs": []
    },
    {
      "cell_type": "code",
      "metadata": {
        "id": "Zk-a-2VZ2PPQ"
      },
      "source": [
        "df['text'] = df.original_tweet.apply(lambda x: clean_data(x))"
      ],
      "execution_count": 10,
      "outputs": []
    },
    {
      "cell_type": "code",
      "metadata": {
        "id": "ouXwBi11GBpf"
      },
      "source": [
        "df['text_stem'] = df.original_tweet.apply(lambda x: clean_data(x, True))"
      ],
      "execution_count": 11,
      "outputs": []
    },
    {
      "cell_type": "code",
      "metadata": {
        "id": "qO65sWORsriz"
      },
      "source": [
        "df['text_stop'] = df.original_tweet.apply(lambda x: clean_data(x, False, True))"
      ],
      "execution_count": 12,
      "outputs": []
    },
    {
      "cell_type": "code",
      "metadata": {
        "id": "DzIsGL45GJFs"
      },
      "source": [
        "df['text_stem_stop'] = df.original_tweet.apply(lambda x: clean_data(x, True, True))"
      ],
      "execution_count": 13,
      "outputs": []
    },
    {
      "cell_type": "code",
      "metadata": {
        "colab": {
          "base_uri": "https://localhost:8080/",
          "height": 275
        },
        "id": "pBVB5M-sc4C4",
        "outputId": "90169f2c-8cc8-426e-b679-c95ae5a2617b"
      },
      "source": [
        "df.head()"
      ],
      "execution_count": 14,
      "outputs": [
        {
          "output_type": "execute_result",
          "data": {
            "text/html": [
              "<div>\n",
              "<style scoped>\n",
              "    .dataframe tbody tr th:only-of-type {\n",
              "        vertical-align: middle;\n",
              "    }\n",
              "\n",
              "    .dataframe tbody tr th {\n",
              "        vertical-align: top;\n",
              "    }\n",
              "\n",
              "    .dataframe thead th {\n",
              "        text-align: right;\n",
              "    }\n",
              "</style>\n",
              "<table border=\"1\" class=\"dataframe\">\n",
              "  <thead>\n",
              "    <tr style=\"text-align: right;\">\n",
              "      <th></th>\n",
              "      <th>sentiment</th>\n",
              "      <th>original_tweet</th>\n",
              "      <th>text</th>\n",
              "      <th>text_stem</th>\n",
              "      <th>text_stop</th>\n",
              "      <th>text_stem_stop</th>\n",
              "    </tr>\n",
              "  </thead>\n",
              "  <tbody>\n",
              "    <tr>\n",
              "      <th>0</th>\n",
              "      <td>Negative</td>\n",
              "      <td>is upset that he can't update his Facebook by ...</td>\n",
              "      <td>is upset that he cant update his facebook by t...</td>\n",
              "      <td>is upset that he cant updat his facebook by te...</td>\n",
              "      <td>upset cant update facebook texting might cry r...</td>\n",
              "      <td>upset cant updat facebook text might cri resul...</td>\n",
              "    </tr>\n",
              "    <tr>\n",
              "      <th>1</th>\n",
              "      <td>Negative</td>\n",
              "      <td>@Kenichan I dived many times for the ball. Man...</td>\n",
              "      <td>i dived many times for the ball managed to sav...</td>\n",
              "      <td>i dive mani time for the ball manag to save 50...</td>\n",
              "      <td>dived many times ball managed save 50 rest go ...</td>\n",
              "      <td>dive mani time ball manag save 50 rest go bound</td>\n",
              "    </tr>\n",
              "    <tr>\n",
              "      <th>2</th>\n",
              "      <td>Negative</td>\n",
              "      <td>my whole body feels itchy and like its on fire</td>\n",
              "      <td>my whole body feels itchy and like its on fire</td>\n",
              "      <td>my whole bodi feel itchi and like it on fire</td>\n",
              "      <td>whole body feels itchy like fire</td>\n",
              "      <td>whole bodi feel itchi like fire</td>\n",
              "    </tr>\n",
              "    <tr>\n",
              "      <th>3</th>\n",
              "      <td>Negative</td>\n",
              "      <td>@nationwideclass no, it's not behaving at all....</td>\n",
              "      <td>no it s not behaving at all i m mad why am i h...</td>\n",
              "      <td>no it s not behav at all i m mad whi am i here...</td>\n",
              "      <td>behaving mad cant see</td>\n",
              "      <td>behav mad cant see</td>\n",
              "    </tr>\n",
              "    <tr>\n",
              "      <th>4</th>\n",
              "      <td>Negative</td>\n",
              "      <td>@Kwesidei not the whole crew</td>\n",
              "      <td>not the whole crew</td>\n",
              "      <td>not the whole crew</td>\n",
              "      <td>whole crew</td>\n",
              "      <td>whole crew</td>\n",
              "    </tr>\n",
              "  </tbody>\n",
              "</table>\n",
              "</div>"
            ],
            "text/plain": [
              "  sentiment  ...                                     text_stem_stop\n",
              "0  Negative  ...  upset cant updat facebook text might cri resul...\n",
              "1  Negative  ...    dive mani time ball manag save 50 rest go bound\n",
              "2  Negative  ...                    whole bodi feel itchi like fire\n",
              "3  Negative  ...                                 behav mad cant see\n",
              "4  Negative  ...                                         whole crew\n",
              "\n",
              "[5 rows x 6 columns]"
            ]
          },
          "metadata": {
            "tags": []
          },
          "execution_count": 14
        }
      ]
    },
    {
      "cell_type": "markdown",
      "metadata": {
        "id": "zmmkrDfIqf64"
      },
      "source": [
        "<a name='5'></a>\r\n",
        "###Displaying vocabulary"
      ]
    },
    {
      "cell_type": "code",
      "metadata": {
        "colab": {
          "base_uri": "https://localhost:8080/"
        },
        "id": "RRe_orlkdLWu",
        "outputId": "4b2758bc-7fba-432e-8ce9-8bd907511b79"
      },
      "source": [
        "positive_words = []\r\n",
        "for tweet in df[df.sentiment == 'Positive'].text_stem_stop :\r\n",
        "  for word in tweet.split():\r\n",
        "    positive_words.append(word)\r\n",
        "\r\n",
        "positive_words_freq = dict()\r\n",
        "for w in positive_words:\r\n",
        "    if w not in positive_words_freq.keys():\r\n",
        "      positive_words_freq[w] = 1\r\n",
        "    else:\r\n",
        "      positive_words_freq[w] += 1\r\n",
        "\r\n",
        "positive_words_freq = dict(reversed(sorted(positive_words_freq.items(), key=lambda item: item[1])))\r\n",
        "print({k: positive_words_freq[k] for k in list(positive_words_freq)[:10]})"
      ],
      "execution_count": 15,
      "outputs": [
        {
          "output_type": "stream",
          "text": [
            "{'good': 62841, 'love': 60863, 'go': 59282, 'day': 55824, 'thank': 51066, 'get': 49205, 'quot': 46973, 'like': 40563, 'lol': 36248, 'time': 34592}\n"
          ],
          "name": "stdout"
        }
      ]
    },
    {
      "cell_type": "code",
      "metadata": {
        "id": "XRlsprW8f2-N",
        "colab": {
          "base_uri": "https://localhost:8080/"
        },
        "outputId": "da98aa2a-08e5-4533-89ea-ab7825958a92"
      },
      "source": [
        "negative_words = []\r\n",
        "for tweet in df[df.sentiment == 'Negative'].text_stem_stop :\r\n",
        "  for word in tweet.split():\r\n",
        "    negative_words.append(word)\r\n",
        "\r\n",
        "negative_words_freq = dict()\r\n",
        "for w in negative_words:\r\n",
        "    if w not in negative_words_freq.keys():\r\n",
        "      negative_words_freq[w] = 1\r\n",
        "    else:\r\n",
        "      negative_words_freq[w] += 1\r\n",
        "\r\n",
        "negative_words_freq = dict(reversed(sorted(negative_words_freq.items(), key=lambda item: item[1])))\r\n",
        "print({k: negative_words_freq[k] for k in list(negative_words_freq)[:10]})"
      ],
      "execution_count": 16,
      "outputs": [
        {
          "output_type": "stream",
          "text": [
            "{'go': 79271, 'get': 61505, 'work': 59001, 'day': 50485, 'miss': 47591, 'dont': 45254, 'cant': 44126, 'like': 43256, 'want': 40294, 'today': 38365}\n"
          ],
          "name": "stdout"
        }
      ]
    },
    {
      "cell_type": "markdown",
      "metadata": {
        "id": "q7ClQJyb2Rc4"
      },
      "source": [
        "<a name='6'></a>\r\n",
        "##Model preparation"
      ]
    },
    {
      "cell_type": "markdown",
      "metadata": {
        "id": "bWJd5nH31q_Z"
      },
      "source": [
        "<a name='6'></a>\r\n",
        "###Shuffle dataset\r\n",
        "\r\n",
        "We split out dataset into train data (80%) and test data (20%) and shuffle it."
      ]
    },
    {
      "cell_type": "code",
      "metadata": {
        "id": "7JzG-fE03RsW"
      },
      "source": [
        "TRAIN_SIZE = 0.8\r\n",
        "MAX_NB_WORDS = 100000\r\n",
        "MAX_SEQUENCE_LENGTH = 30"
      ],
      "execution_count": 17,
      "outputs": []
    },
    {
      "cell_type": "code",
      "metadata": {
        "colab": {
          "base_uri": "https://localhost:8080/"
        },
        "id": "H8642Qxq3Rq8",
        "outputId": "8f3fe688-e1a4-44fe-95cb-a3ac6a502b5f"
      },
      "source": [
        "train_data, test_data = train_test_split(df, test_size=1-TRAIN_SIZE, random_state=7)\r\n",
        "print(\"Train Data size:\", len(train_data))\r\n",
        "print(\"Test Data size\", len(test_data))"
      ],
      "execution_count": 18,
      "outputs": [
        {
          "output_type": "stream",
          "text": [
            "Train Data size: 1279999\n",
            "Test Data size 320000\n"
          ],
          "name": "stdout"
        }
      ]
    },
    {
      "cell_type": "code",
      "metadata": {
        "colab": {
          "base_uri": "https://localhost:8080/",
          "height": 554
        },
        "id": "kbTJfAkQ3Rnl",
        "outputId": "c27d90db-0922-4b4f-8ae6-08907c14cb8c"
      },
      "source": [
        "train_data.head(10)"
      ],
      "execution_count": 19,
      "outputs": [
        {
          "output_type": "execute_result",
          "data": {
            "text/html": [
              "<div>\n",
              "<style scoped>\n",
              "    .dataframe tbody tr th:only-of-type {\n",
              "        vertical-align: middle;\n",
              "    }\n",
              "\n",
              "    .dataframe tbody tr th {\n",
              "        vertical-align: top;\n",
              "    }\n",
              "\n",
              "    .dataframe thead th {\n",
              "        text-align: right;\n",
              "    }\n",
              "</style>\n",
              "<table border=\"1\" class=\"dataframe\">\n",
              "  <thead>\n",
              "    <tr style=\"text-align: right;\">\n",
              "      <th></th>\n",
              "      <th>sentiment</th>\n",
              "      <th>original_tweet</th>\n",
              "      <th>text</th>\n",
              "      <th>text_stem</th>\n",
              "      <th>text_stop</th>\n",
              "      <th>text_stem_stop</th>\n",
              "    </tr>\n",
              "  </thead>\n",
              "  <tbody>\n",
              "    <tr>\n",
              "      <th>1176709</th>\n",
              "      <td>Positive</td>\n",
              "      <td>@emlynley lol You will get what's coming to yo...</td>\n",
              "      <td>lol you will get what s coming to you in a goo...</td>\n",
              "      <td>lol you will get what s come to you in a good ...</td>\n",
              "      <td>lol get coming good way mean way talented authors</td>\n",
              "      <td>lol get come good way mean way talent author</td>\n",
              "    </tr>\n",
              "    <tr>\n",
              "      <th>641121</th>\n",
              "      <td>Negative</td>\n",
              "      <td>@xXFriendXx I would miss dreaming if I didn't ...</td>\n",
              "      <td>i would miss dreaming if i didnt anymore</td>\n",
              "      <td>i would miss dream if i didnt anymor</td>\n",
              "      <td>would miss dreaming didnt anymore</td>\n",
              "      <td>would miss dream didnt anymor</td>\n",
              "    </tr>\n",
              "    <tr>\n",
              "      <th>1132400</th>\n",
              "      <td>Positive</td>\n",
              "      <td>@CCavallari @poletii http://bit.ly/1psbO  chec...</td>\n",
              "      <td>poletii check that out i m following that woma...</td>\n",
              "      <td>poletii check that out i m follow that woman a...</td>\n",
              "      <td>poletii check following woman ahahha</td>\n",
              "      <td>poletii check follow woman ahahha</td>\n",
              "    </tr>\n",
              "    <tr>\n",
              "      <th>130866</th>\n",
              "      <td>Negative</td>\n",
              "      <td>im sick  the only thing that would make me fee...</td>\n",
              "      <td>im sick the only thing that would make me feel...</td>\n",
              "      <td>im sick the onli thing that would make me feel...</td>\n",
              "      <td>im sick thing would make feel better would pal...</td>\n",
              "      <td>im sick thing would make feel better would pal...</td>\n",
              "    </tr>\n",
              "    <tr>\n",
              "      <th>1235875</th>\n",
              "      <td>Positive</td>\n",
              "      <td>@AnnieMcBeth Sounds like my cup of tea. Where ...</td>\n",
              "      <td>sounds like my cup of tea where do we sign up</td>\n",
              "      <td>sound like my cup of tea where do we sign up</td>\n",
              "      <td>sounds like cup tea sign</td>\n",
              "      <td>sound like cup tea sign</td>\n",
              "    </tr>\n",
              "    <tr>\n",
              "      <th>1568154</th>\n",
              "      <td>Positive</td>\n",
              "      <td>I think I'm going to take a hot bath &amp;amp; lis...</td>\n",
              "      <td>i think i m going to take a hot bath amp liste...</td>\n",
              "      <td>i think i m go to take a hot bath amp listen t...</td>\n",
              "      <td>think going take hot bath amp listen lvatt</td>\n",
              "      <td>think go take hot bath amp listen lvatt</td>\n",
              "    </tr>\n",
              "    <tr>\n",
              "      <th>758235</th>\n",
              "      <td>Negative</td>\n",
              "      <td>I feel tired today , i`m not going to Gym</td>\n",
              "      <td>i feel tired today i m not going to gym</td>\n",
              "      <td>i feel tire today i m not go to gym</td>\n",
              "      <td>feel tired today going gym</td>\n",
              "      <td>feel tire today go gym</td>\n",
              "    </tr>\n",
              "    <tr>\n",
              "      <th>1446219</th>\n",
              "      <td>Positive</td>\n",
              "      <td>weekend ...resting in peace ..finally</td>\n",
              "      <td>weekend resting in peace finally</td>\n",
              "      <td>weekend rest in peac final</td>\n",
              "      <td>weekend resting peace finally</td>\n",
              "      <td>weekend rest peac final</td>\n",
              "    </tr>\n",
              "    <tr>\n",
              "      <th>763239</th>\n",
              "      <td>Negative</td>\n",
              "      <td>I am sooo jealous....I hope one day I can make...</td>\n",
              "      <td>i am sooo jealous i hope one day i can make it...</td>\n",
              "      <td>i am sooo jealous i hope one day i can make it...</td>\n",
              "      <td>sooo jealous hope one day make france go louvr...</td>\n",
              "      <td>sooo jealous hope one day make franc go louvr ...</td>\n",
              "    </tr>\n",
              "    <tr>\n",
              "      <th>584093</th>\n",
              "      <td>Negative</td>\n",
              "      <td>@juanitaaaa don't say that i'll cry  hahah</td>\n",
              "      <td>dont say that i ll cry hahah</td>\n",
              "      <td>dont say that i ll cri hahah</td>\n",
              "      <td>dont say cry hahah</td>\n",
              "      <td>dont say cri hahah</td>\n",
              "    </tr>\n",
              "  </tbody>\n",
              "</table>\n",
              "</div>"
            ],
            "text/plain": [
              "        sentiment  ...                                     text_stem_stop\n",
              "1176709  Positive  ...       lol get come good way mean way talent author\n",
              "641121   Negative  ...                      would miss dream didnt anymor\n",
              "1132400  Positive  ...                  poletii check follow woman ahahha\n",
              "130866   Negative  ...  im sick thing would make feel better would pal...\n",
              "1235875  Positive  ...                            sound like cup tea sign\n",
              "1568154  Positive  ...            think go take hot bath amp listen lvatt\n",
              "758235   Negative  ...                             feel tire today go gym\n",
              "1446219  Positive  ...                            weekend rest peac final\n",
              "763239   Negative  ...  sooo jealous hope one day make franc go louvr ...\n",
              "584093   Negative  ...                                 dont say cri hahah\n",
              "\n",
              "[10 rows x 6 columns]"
            ]
          },
          "metadata": {
            "tags": []
          },
          "execution_count": 19
        }
      ]
    },
    {
      "cell_type": "markdown",
      "metadata": {
        "id": "3eZpOqjC163s"
      },
      "source": [
        "<a name='8'></a>\r\n",
        "###Tokenization"
      ]
    },
    {
      "cell_type": "code",
      "metadata": {
        "id": "MMzzuLVrJuo9"
      },
      "source": [
        "TRAIN_DATA = train_data.text_stem\r\n",
        "TEST_DATA = test_data.text_stem\r\n",
        "MODEL_PATH = 'text_stem'"
      ],
      "execution_count": 20,
      "outputs": []
    },
    {
      "cell_type": "code",
      "metadata": {
        "colab": {
          "base_uri": "https://localhost:8080/"
        },
        "id": "9q7u1rEq3Rk_",
        "outputId": "41160a0f-ee66-4e8d-df70-6a9db82c3c04"
      },
      "source": [
        "from keras.preprocessing.text import Tokenizer\r\n",
        "\r\n",
        "tokenizer = Tokenizer()\r\n",
        "tokenizer.fit_on_texts(TRAIN_DATA)\r\n",
        "\r\n",
        "word_index = tokenizer.word_index\r\n",
        "vocab_size = len(tokenizer.word_index) + 1\r\n",
        "print(\"Vocabulary Size :\", vocab_size)"
      ],
      "execution_count": 21,
      "outputs": [
        {
          "output_type": "stream",
          "text": [
            "Vocabulary Size : 248708\n"
          ],
          "name": "stdout"
        }
      ]
    },
    {
      "cell_type": "code",
      "metadata": {
        "colab": {
          "base_uri": "https://localhost:8080/"
        },
        "id": "P6ZzX5PV3RiX",
        "outputId": "62c85a4b-8e45-4141-e1b3-87d73d8c5a94"
      },
      "source": [
        "from keras.preprocessing.sequence import pad_sequences\r\n",
        "\r\n",
        "x_train = pad_sequences(tokenizer.texts_to_sequences(TRAIN_DATA), maxlen = MAX_SEQUENCE_LENGTH)\r\n",
        "x_test = pad_sequences(tokenizer.texts_to_sequences(TEST_DATA), maxlen = MAX_SEQUENCE_LENGTH)\r\n",
        "\r\n",
        "print(\"x_train shape:\", x_train.shape)\r\n",
        "print(\"x_test shape:\", x_test.shape)"
      ],
      "execution_count": 22,
      "outputs": [
        {
          "output_type": "stream",
          "text": [
            "x_train shape: (1279999, 30)\n",
            "x_test shape: (320000, 30)\n"
          ],
          "name": "stdout"
        }
      ]
    },
    {
      "cell_type": "code",
      "metadata": {
        "id": "HOTNrpKr3Rfy"
      },
      "source": [
        "labels = train_data.sentiment.unique().tolist()"
      ],
      "execution_count": 23,
      "outputs": []
    },
    {
      "cell_type": "code",
      "metadata": {
        "colab": {
          "base_uri": "https://localhost:8080/"
        },
        "id": "Dd1VFU-b3Rd0",
        "outputId": "8edd8706-1079-4328-bd5a-70a974aad7de"
      },
      "source": [
        "encoder = LabelEncoder()\r\n",
        "encoder.fit(train_data.sentiment.to_list())\r\n",
        "\r\n",
        "y_train = encoder.transform(train_data.sentiment.to_list())\r\n",
        "y_test = encoder.transform(test_data.sentiment.to_list())\r\n",
        "\r\n",
        "y_train = y_train.reshape(-1,1)\r\n",
        "y_test = y_test.reshape(-1,1)\r\n",
        "\r\n",
        "print(\"y_train shape:\", y_train.shape)\r\n",
        "print(\"y_test shape:\", y_test.shape)"
      ],
      "execution_count": 24,
      "outputs": [
        {
          "output_type": "stream",
          "text": [
            "y_train shape: (1279999, 1)\n",
            "y_test shape: (320000, 1)\n"
          ],
          "name": "stdout"
        }
      ]
    },
    {
      "cell_type": "markdown",
      "metadata": {
        "id": "bJXauhkNwBPm"
      },
      "source": [
        "<a name='9'></a>\r\n",
        "###Word embedding\r\n",
        "We will use GloVe to build our embedding *layer*"
      ]
    },
    {
      "cell_type": "code",
      "metadata": {
        "id": "RnPEO7R13Rar",
        "outputId": "5a381a7c-b2d1-4196-fef4-b5273845f2b1",
        "colab": {
          "base_uri": "https://localhost:8080/"
        }
      },
      "source": [
        "!wget http://nlp.stanford.edu/data/glove.6B.zip\r\n",
        "!unzip glove.6B.zip"
      ],
      "execution_count": 25,
      "outputs": [
        {
          "output_type": "stream",
          "text": [
            "--2021-02-28 22:53:03--  http://nlp.stanford.edu/data/glove.6B.zip\n",
            "Resolving nlp.stanford.edu (nlp.stanford.edu)... 171.64.67.140\n",
            "Connecting to nlp.stanford.edu (nlp.stanford.edu)|171.64.67.140|:80... connected.\n",
            "HTTP request sent, awaiting response... 302 Found\n",
            "Location: https://nlp.stanford.edu/data/glove.6B.zip [following]\n",
            "--2021-02-28 22:53:03--  https://nlp.stanford.edu/data/glove.6B.zip\n",
            "Connecting to nlp.stanford.edu (nlp.stanford.edu)|171.64.67.140|:443... connected.\n",
            "HTTP request sent, awaiting response... 301 Moved Permanently\n",
            "Location: http://downloads.cs.stanford.edu/nlp/data/glove.6B.zip [following]\n",
            "--2021-02-28 22:53:03--  http://downloads.cs.stanford.edu/nlp/data/glove.6B.zip\n",
            "Resolving downloads.cs.stanford.edu (downloads.cs.stanford.edu)... 171.64.64.22\n",
            "Connecting to downloads.cs.stanford.edu (downloads.cs.stanford.edu)|171.64.64.22|:80... connected.\n",
            "HTTP request sent, awaiting response... 200 OK\n",
            "Length: 862182613 (822M) [application/zip]\n",
            "Saving to: ‘glove.6B.zip’\n",
            "\n",
            "glove.6B.zip        100%[===================>] 822.24M  2.17MB/s    in 6m 51s  \n",
            "\n",
            "2021-02-28 22:59:55 (2.00 MB/s) - ‘glove.6B.zip’ saved [862182613/862182613]\n",
            "\n",
            "Archive:  glove.6B.zip\n",
            "  inflating: glove.6B.50d.txt        \n",
            "  inflating: glove.6B.100d.txt       \n",
            "  inflating: glove.6B.200d.txt       \n",
            "  inflating: glove.6B.300d.txt       \n"
          ],
          "name": "stdout"
        }
      ]
    },
    {
      "cell_type": "code",
      "metadata": {
        "id": "BW8WPrqB3RYu"
      },
      "source": [
        "GLOVE_EMB = '/content/glove.6B.300d.txt'\r\n",
        "EMBEDDING_DIM = 300\r\n",
        "LR = 1e-3\r\n",
        "BATCH_SIZE = 1024\r\n",
        "EPOCHS = 10\r\n",
        "MODEL_PATH = '.../output/kaggle/working/best_model.hdf5'"
      ],
      "execution_count": 26,
      "outputs": []
    },
    {
      "cell_type": "code",
      "metadata": {
        "colab": {
          "base_uri": "https://localhost:8080/"
        },
        "id": "EHfOs0kR3RV5",
        "outputId": "ad824def-1538-4f52-ab57-9589ae6321be"
      },
      "source": [
        "embeddings_index = {}\r\n",
        "\r\n",
        "f = open(GLOVE_EMB)\r\n",
        "for line in f:\r\n",
        "  values = line.split()\r\n",
        "  word = value = values[0]\r\n",
        "  coefs = np.asarray(values[1:], dtype='float32')\r\n",
        "  embeddings_index[word] = coefs\r\n",
        "f.close()\r\n",
        "\r\n",
        "print('Found %s word vectors.' %len(embeddings_index))"
      ],
      "execution_count": 27,
      "outputs": [
        {
          "output_type": "stream",
          "text": [
            "Found 400000 word vectors.\n"
          ],
          "name": "stdout"
        }
      ]
    },
    {
      "cell_type": "code",
      "metadata": {
        "id": "NRIaPVc03RTj"
      },
      "source": [
        "embedding_matrix = np.zeros((vocab_size, EMBEDDING_DIM))\r\n",
        "for word, i in word_index.items():\r\n",
        "  embedding_vector = embeddings_index.get(word)\r\n",
        "  if embedding_vector is not None:\r\n",
        "    embedding_matrix[i] = embedding_vector"
      ],
      "execution_count": 28,
      "outputs": []
    },
    {
      "cell_type": "code",
      "metadata": {
        "id": "JhXJ3nXC3RQ6"
      },
      "source": [
        "embedding_layer = tf.keras.layers.Embedding(vocab_size,\r\n",
        "                                          EMBEDDING_DIM,\r\n",
        "                                          weights=[embedding_matrix],\r\n",
        "                                          input_length=MAX_SEQUENCE_LENGTH,\r\n",
        "                                          trainable=False)"
      ],
      "execution_count": 29,
      "outputs": []
    },
    {
      "cell_type": "markdown",
      "metadata": {
        "id": "v0Mn7fc73Cx8"
      },
      "source": [
        "<a name='10'></a>\r\n",
        "##Model training"
      ]
    },
    {
      "cell_type": "markdown",
      "metadata": {
        "id": "1TqO8ZxE21VS"
      },
      "source": [
        "<a name='10'></a>\r\n",
        "###Long Short-Term Memory"
      ]
    },
    {
      "cell_type": "code",
      "metadata": {
        "id": "zo02zXh_3uhq"
      },
      "source": [
        "from tensorflow.keras.layers import Conv1D, Bidirectional, LSTM, Dense, Input, Dropout\r\n",
        "from tensorflow.keras.layers import SpatialDropout1D\r\n",
        "from tensorflow.keras.callbacks import ModelCheckpoint"
      ],
      "execution_count": 30,
      "outputs": []
    },
    {
      "cell_type": "code",
      "metadata": {
        "colab": {
          "base_uri": "https://localhost:8080/"
        },
        "id": "rEWisqd93ue_",
        "outputId": "3bd8406f-56e6-4a1c-b719-5328d8f3f292"
      },
      "source": [
        "sequence_input = Input(shape=(MAX_SEQUENCE_LENGTH,), dtype='int32')\r\n",
        "embedding_sequences = embedding_layer(sequence_input)\r\n",
        "x = SpatialDropout1D(0.2)(embedding_sequences)\r\n",
        "x = Conv1D(64, 5, activation='relu')(x)\r\n",
        "x = Bidirectional(LSTM(64, dropout=0.2, recurrent_dropout=0.2))(x)\r\n",
        "x = Dense(512, activation='relu')(x)\r\n",
        "x = Dropout(0.5)(x)\r\n",
        "x = Dense(512, activation='relu')(x)\r\n",
        "outputs = Dense(1, activation='sigmoid')(x)\r\n",
        "model = tf.keras.Model(sequence_input, outputs)"
      ],
      "execution_count": 31,
      "outputs": [
        {
          "output_type": "stream",
          "text": [
            "WARNING:tensorflow:Layer lstm will not use cuDNN kernel since it doesn't meet the cuDNN kernel criteria. It will use generic GPU kernel as fallback when running on GPU\n",
            "WARNING:tensorflow:Layer lstm will not use cuDNN kernel since it doesn't meet the cuDNN kernel criteria. It will use generic GPU kernel as fallback when running on GPU\n",
            "WARNING:tensorflow:Layer lstm will not use cuDNN kernel since it doesn't meet the cuDNN kernel criteria. It will use generic GPU kernel as fallback when running on GPU\n"
          ],
          "name": "stdout"
        }
      ]
    },
    {
      "cell_type": "markdown",
      "metadata": {
        "id": "n0ye_UzN3ZTP"
      },
      "source": [
        "<a name='11'></a>\r\n",
        "###Training"
      ]
    },
    {
      "cell_type": "code",
      "metadata": {
        "id": "zuOGv7QY3ucZ"
      },
      "source": [
        "from tensorflow.keras.optimizers import Adam\r\n",
        "from tensorflow.keras.callbacks import ReduceLROnPlateau\r\n",
        "\r\n",
        "model.compile(optimizer=Adam(learning_rate=LR), loss='binary_crossentropy',\r\n",
        "              metrics=['accuracy'])\r\n",
        "ReduceLROnPlateau = ReduceLROnPlateau(factor=0.1,\r\n",
        "                                     min_lr = 0.01,\r\n",
        "                                     monitor = 'val_loss',\r\n",
        "                                     verbose = 1)"
      ],
      "execution_count": 32,
      "outputs": []
    },
    {
      "cell_type": "code",
      "metadata": {
        "id": "dojPuL7V3uWz",
        "colab": {
          "base_uri": "https://localhost:8080/"
        },
        "outputId": "6ca4d0fd-84cf-4dc4-a364-3a703622c8ad"
      },
      "source": [
        "history = model.fit(x_train, y_train, batch_size=BATCH_SIZE, epochs=EPOCHS,\r\n",
        "                    validation_data=(x_test, y_test), callbacks=[ReduceLROnPlateau])"
      ],
      "execution_count": 33,
      "outputs": [
        {
          "output_type": "stream",
          "text": [
            "Epoch 1/10\n",
            "1250/1250 [==============================] - 284s 218ms/step - loss: 0.5312 - accuracy: 0.7286 - val_loss: 0.4516 - val_accuracy: 0.7866\n",
            "Epoch 2/10\n",
            "1250/1250 [==============================] - 270s 216ms/step - loss: 0.4613 - accuracy: 0.7809 - val_loss: 0.4383 - val_accuracy: 0.7958\n",
            "Epoch 3/10\n",
            "1250/1250 [==============================] - 267s 214ms/step - loss: 0.4446 - accuracy: 0.7912 - val_loss: 0.4296 - val_accuracy: 0.8002\n",
            "Epoch 4/10\n",
            "1250/1250 [==============================] - 266s 213ms/step - loss: 0.4365 - accuracy: 0.7956 - val_loss: 0.4271 - val_accuracy: 0.8019\n",
            "Epoch 5/10\n",
            "1250/1250 [==============================] - 268s 214ms/step - loss: 0.4309 - accuracy: 0.7986 - val_loss: 0.4252 - val_accuracy: 0.8040\n",
            "Epoch 6/10\n",
            "1250/1250 [==============================] - 267s 213ms/step - loss: 0.4275 - accuracy: 0.8008 - val_loss: 0.4223 - val_accuracy: 0.8049\n",
            "Epoch 7/10\n",
            "1250/1250 [==============================] - 267s 214ms/step - loss: 0.4229 - accuracy: 0.8041 - val_loss: 0.4190 - val_accuracy: 0.8067\n",
            "Epoch 8/10\n",
            "1250/1250 [==============================] - 267s 213ms/step - loss: 0.4205 - accuracy: 0.8050 - val_loss: 0.4194 - val_accuracy: 0.8081\n",
            "Epoch 9/10\n",
            "1250/1250 [==============================] - 265s 212ms/step - loss: 0.4186 - accuracy: 0.8058 - val_loss: 0.4184 - val_accuracy: 0.8082\n",
            "Epoch 10/10\n",
            "1250/1250 [==============================] - 267s 213ms/step - loss: 0.4169 - accuracy: 0.8068 - val_loss: 0.4153 - val_accuracy: 0.8088\n"
          ],
          "name": "stdout"
        }
      ]
    },
    {
      "cell_type": "markdown",
      "metadata": {
        "id": "LcQtvvkB3fHK"
      },
      "source": [
        "<a name='12'></a>\r\n",
        "##Model evaluation"
      ]
    },
    {
      "cell_type": "markdown",
      "metadata": {
        "id": "V_MLyX833pBQ"
      },
      "source": [
        "<a name='12'></a>\r\n",
        "###Learning Curve of loss and accuracy"
      ]
    },
    {
      "cell_type": "code",
      "metadata": {
        "id": "5v-b3mKa3uUW",
        "colab": {
          "base_uri": "https://localhost:8080/",
          "height": 313
        },
        "outputId": "e04d2e9d-dd4c-4d6e-d78a-050b17455b43"
      },
      "source": [
        "s, (at, al) = plt.subplots(2,1)\r\n",
        "at.plot(history.history['accuracy'], c= 'b')\r\n",
        "at.plot(history.history['val_accuracy'], c='r')\r\n",
        "at.set_title('model accuracy')\r\n",
        "at.set_ylabel('accuracy')\r\n",
        "at.set_xlabel('epoch')\r\n",
        "at.legend(['LSTM_train', 'LSTM_val'], loc='upper left')\r\n",
        "\r\n",
        "al.plot(history.history['loss'], c='m')\r\n",
        "al.plot(history.history['val_loss'], c='c')\r\n",
        "al.set_title('model loss')\r\n",
        "al.set_ylabel('loss')\r\n",
        "al.set_xlabel('epoch')\r\n",
        "al.legend(['train', 'val'], loc = 'upper left')"
      ],
      "execution_count": 34,
      "outputs": [
        {
          "output_type": "execute_result",
          "data": {
            "text/plain": [
              "<matplotlib.legend.Legend at 0x7faefac8bb10>"
            ]
          },
          "metadata": {
            "tags": []
          },
          "execution_count": 34
        },
        {
          "output_type": "display_data",
          "data": {
            "image/png": "[encoded data removed]",
            "text/plain": [
              "<Figure size 432x288 with 2 Axes>"
            ]
          },
          "metadata": {
            "tags": [],
            "needs_background": "light"
          }
        }
      ]
    },
    {
      "cell_type": "markdown",
      "metadata": {
        "id": "ADmBCxr235hK"
      },
      "source": [
        "<a name='13'></a>\r\n",
        "###Confusion matrix"
      ]
    },
    {
      "cell_type": "code",
      "metadata": {
        "id": "gAasDd1F3uRe",
        "colab": {
          "base_uri": "https://localhost:8080/"
        },
        "outputId": "9a29913c-3a88-4d37-dce8-f153010f07e5"
      },
      "source": [
        "def decode_sentiment(score):\r\n",
        "    return \"Positive\" if score>0.5 else \"Negative\"\r\n",
        "\r\n",
        "\r\n",
        "scores = model.predict(x_test, verbose=1, batch_size=10000)\r\n",
        "y_pred_1d = [decode_sentiment(score) for score in scores]"
      ],
      "execution_count": 35,
      "outputs": [
        {
          "output_type": "stream",
          "text": [
            "32/32 [==============================] - 5s 146ms/step\n"
          ],
          "name": "stdout"
        }
      ]
    },
    {
      "cell_type": "code",
      "metadata": {
        "id": "wAaZOjOk3uO7"
      },
      "source": [
        "import itertools\r\n",
        "from sklearn.metrics import confusion_matrix, classification_report, accuracy_score\r\n",
        "def plot_confusion_matrix(cm, classes,\r\n",
        "                          title='Confusion matrix',\r\n",
        "                          cmap=plt.cm.Blues):\r\n",
        "    \"\"\"\r\n",
        "    This function prints and plots the confusion matrix.\r\n",
        "    Normalization can be applied by setting `normalize=True`.\r\n",
        "    \"\"\"\r\n",
        "\r\n",
        "    cm = cm.astype('float') / cm.sum(axis=1)[:, np.newaxis]\r\n",
        "\r\n",
        "    plt.imshow(cm, interpolation='nearest', cmap=cmap)\r\n",
        "    plt.title(title, fontsize=20)\r\n",
        "    plt.colorbar()\r\n",
        "    tick_marks = np.arange(len(classes))\r\n",
        "    plt.xticks(tick_marks, classes, fontsize=13)\r\n",
        "    plt.yticks(tick_marks, classes, fontsize=13)\r\n",
        "\r\n",
        "    fmt = '.2f'\r\n",
        "    thresh = cm.max() / 2.\r\n",
        "    for i, j in itertools.product(range(cm.shape[0]), range(cm.shape[1])):\r\n",
        "        plt.text(j, i, format(cm[i, j], fmt),\r\n",
        "                 horizontalalignment=\"center\",\r\n",
        "                 color=\"white\" if cm[i, j] > thresh else \"black\")\r\n",
        "\r\n",
        "    plt.ylabel('True label', fontsize=17)\r\n",
        "    plt.xlabel('Predicted label', fontsize=17)"
      ],
      "execution_count": 36,
      "outputs": []
    },
    {
      "cell_type": "code",
      "metadata": {
        "id": "EIJ_mgOI3uMR",
        "colab": {
          "base_uri": "https://localhost:8080/",
          "height": 370
        },
        "outputId": "bd245a7d-d3aa-4c0b-c655-1c77090493e2"
      },
      "source": [
        "cnf_matrix = confusion_matrix(test_data.sentiment.to_list(), y_pred_1d)\r\n",
        "plt.figure(figsize=(6,6))\r\n",
        "plot_confusion_matrix(cnf_matrix, classes=test_data.sentiment.unique(), title=\"Confusion matrix\")\r\n",
        "plt.show()"
      ],
      "execution_count": 37,
      "outputs": [
        {
          "output_type": "display_data",
          "data": {
            "image/png": "[encoded data removed]",
            "text/plain": [
              "<Figure size 432x432 with 2 Axes>"
            ]
          },
          "metadata": {
            "tags": [],
            "needs_background": "light"
          }
        }
      ]
    },
    {
      "cell_type": "markdown",
      "metadata": {
        "id": "gmze7FCb39yq"
      },
      "source": [
        "<a name='14'></a>\r\n",
        "###Classification scores"
      ]
    },
    {
      "cell_type": "code",
      "metadata": {
        "id": "qDza-6fY3uJc",
        "colab": {
          "base_uri": "https://localhost:8080/"
        },
        "outputId": "1fb9c752-2ec3-45a0-ca76-6e3196046c52"
      },
      "source": [
        "print(classification_report(list(test_data.sentiment), y_pred_1d))"
      ],
      "execution_count": 38,
      "outputs": [
        {
          "output_type": "stream",
          "text": [
            "              precision    recall  f1-score   support\n",
            "\n",
            "    Negative       0.80      0.82      0.81    160336\n",
            "    Positive       0.81      0.80      0.81    159664\n",
            "\n",
            "    accuracy                           0.81    320000\n",
            "   macro avg       0.81      0.81      0.81    320000\n",
            "weighted avg       0.81      0.81      0.81    320000\n",
            "\n"
          ],
          "name": "stdout"
        }
      ]
    },
    {
      "cell_type": "markdown",
      "metadata": {
        "id": "me-BEQIrdBM6"
      },
      "source": [
        "<a name='15'></a>\r\n",
        "###Saving model"
      ]
    },
    {
      "cell_type": "code",
      "metadata": {
        "id": "_O48152xaoJz"
      },
      "source": [
        "model.save('/content/gdrive/MyDrive/NLP_Model/'+MODEL_PATH)"
      ],
      "execution_count": 39,
      "outputs": []
    },
    {
      "cell_type": "code",
      "metadata": {
        "colab": {
          "base_uri": "https://localhost:8080/"
        },
        "id": "8C6xONnMcfrv",
        "outputId": "9ce45fe1-74fc-426f-a4fe-3397c9a5ea41"
      },
      "source": [
        "#To load it :\r\n",
        "from tensorflow import keras\r\n",
        "loaded_model = keras.models.load_model('/content/gdrive/MyDrive/NLP_Model/'+MODEL_PATH)"
      ],
      "execution_count": 40,
      "outputs": [
        {
          "output_type": "stream",
          "text": [
            "WARNING:tensorflow:Layer lstm will not use cuDNN kernel since it doesn't meet the cuDNN kernel criteria. It will use generic GPU kernel as fallback when running on GPU\n",
            "WARNING:tensorflow:Layer lstm will not use cuDNN kernel since it doesn't meet the cuDNN kernel criteria. It will use generic GPU kernel as fallback when running on GPU\n",
            "WARNING:tensorflow:Layer lstm will not use cuDNN kernel since it doesn't meet the cuDNN kernel criteria. It will use generic GPU kernel as fallback when running on GPU\n"
          ],
          "name": "stdout"
        }
      ]
    },
    {
      "cell_type": "code",
      "metadata": {
        "id": "gXfBM2w9Btsd"
      },
      "source": [
        "#todo : display and compare all models resutls"
      ],
      "execution_count": null,
      "outputs": []
    },
    {
      "cell_type": "markdown",
      "metadata": {
        "id": "Z2PzzBLTBNia"
      },
      "source": [
        "<a name='16'></a>\r\n",
        "#Testing our model"
      ]
    },
    {
      "cell_type": "markdown",
      "metadata": {
        "id": "HtG0_IZqBj0W"
      },
      "source": [
        "###Pipeline"
      ]
    },
    {
      "cell_type": "code",
      "metadata": {
        "id": "a565YBcTD1k9"
      },
      "source": [
        "def decode_sentiment_with_neutral(score):\r\n",
        "  if score > 0.65:\r\n",
        "    return \"Positive\"\r\n",
        "  elif score < 0.45:\r\n",
        "    return \"Negative\"\r\n",
        "  else:\r\n",
        "    return \"Neutral\""
      ],
      "execution_count": 65,
      "outputs": []
    },
    {
      "cell_type": "code",
      "metadata": {
        "id": "hSG0UeAXzs6J"
      },
      "source": [
        "def pipeline(text):\r\n",
        "\r\n",
        "  text_clean = clean_data(text, True, False)\r\n",
        "\r\n",
        "  x_test = pad_sequences(tokenizer.texts_to_sequences([text_clean]), maxlen = MAX_SEQUENCE_LENGTH)\r\n",
        "\r\n",
        "  score = model.predict(x_test)[0]\r\n",
        "\r\n",
        "  sentiment = decode_sentiment_with_neutral(score)\r\n",
        "\r\n",
        "  return {\"Tweet\" : text, \"Sentiment\" : sentiment, \"Score \": float(score)}"
      ],
      "execution_count": 66,
      "outputs": []
    },
    {
      "cell_type": "code",
      "metadata": {
        "id": "gQKC_IvF9e4J",
        "outputId": "32d00923-0734-4c8d-9eb6-f760932323fd",
        "colab": {
          "base_uri": "https://localhost:8080/"
        }
      },
      "source": [
        "#Positive example\r\n",
        "pipeline(\"I enjoyed working on this project\")"
      ],
      "execution_count": 63,
      "outputs": [
        {
          "output_type": "execute_result",
          "data": {
            "text/plain": [
              "{'Score ': 0.9156351685523987,\n",
              " 'Sentiment': 'Positive',\n",
              " 'Tweet': 'I enjoyed working on this project'}"
            ]
          },
          "metadata": {
            "tags": []
          },
          "execution_count": 63
        }
      ]
    },
    {
      "cell_type": "code",
      "metadata": {
        "id": "mSVwFPiE-D27",
        "outputId": "6aec4284-3316-447c-ddd4-b884477210ae",
        "colab": {
          "base_uri": "https://localhost:8080/"
        }
      },
      "source": [
        "#Negative example\r\n",
        "pipeline(\"The deadline of the project was too short, we didn't have enough time\")"
      ],
      "execution_count": 67,
      "outputs": [
        {
          "output_type": "execute_result",
          "data": {
            "text/plain": [
              "{'Score ': 0.08768607676029205,\n",
              " 'Sentiment': 'Negative',\n",
              " 'Tweet': \"The deadline of the project was too short, we didn't have enough time\"}"
            ]
          },
          "metadata": {
            "tags": []
          },
          "execution_count": 67
        }
      ]
    },
    {
      "cell_type": "code",
      "metadata": {
        "id": "odTat0r0DZhZ",
        "outputId": "71dd8807-a4ea-4321-fe7f-e95c827f17ce",
        "colab": {
          "base_uri": "https://localhost:8080/"
        }
      },
      "source": [
        "#Neutral example\r\n",
        "pipeline(\"Does anyone know where I can find a good restaurant in Paris ?\")"
      ],
      "execution_count": 68,
      "outputs": [
        {
          "output_type": "execute_result",
          "data": {
            "text/plain": [
              "{'Score ': 0.5973559021949768,\n",
              " 'Sentiment': 'Neutral',\n",
              " 'Tweet': 'Does anyone know where I can find a good restaurant in Paris ?'}"
            ]
          },
          "metadata": {
            "tags": []
          },
          "execution_count": 68
        }
      ]
    },
    {
      "cell_type": "code",
      "metadata": {
        "id": "2ql4h1LsC2bn",
        "outputId": "bf586c6f-dfe6-4ad9-9f55-fd196ccc2f29",
        "colab": {
          "base_uri": "https://localhost:8080/"
        }
      },
      "source": [
        "#Exemple where we need to improve :\r\n",
        "pipeline(\"You're the king of loser\")"
      ],
      "execution_count": 57,
      "outputs": [
        {
          "output_type": "execute_result",
          "data": {
            "text/plain": [
              "{'Score ': 0.8872846961021423,\n",
              " 'Sentiment': 'Positive',\n",
              " 'Tweet': \"You're the king of loser\"}"
            ]
          },
          "metadata": {
            "tags": []
          },
          "execution_count": 57
        }
      ]
    },
    {
      "cell_type": "code",
      "metadata": {
        "id": "mg3gn6fT8scl"
      },
      "source": [
        "#todo : yelp api"
      ],
      "execution_count": null,
      "outputs": []
    }
  ]
}