{
  "nbformat": 4,
  "nbformat_minor": 0,
  "metadata": {
    "accelerator": "GPU",
    "colab": {
      "name": "nlp_project_bernard_hadrien.ipynb",
      "provenance": [],
      "collapsed_sections": [],
      "toc_visible": true,
      "mount_file_id": "1ZJ3C-zsNTm_0oMcqDlHYaBY-7UcfNAJr",
      "authorship_tag": "ABX9TyP+zC5NtBNRqx/wISg6h+F4",
      "include_colab_link": true
    },
    "kernelspec": {
      "display_name": "Python 3",
      "name": "python3"
    }
  },
  "cells": [
    {
      "cell_type": "markdown",
      "metadata": {
        "id": "view-in-github",
        "colab_type": "text"
      },
      "source": [
        "<a href=\"https://colab.research.google.com/github/HadrienBd/Natural_Language_Processing/blob/main/nlp_project_bernard_hadrien.ipynb\" target=\"_parent\"><img src=\"https://colab.research.google.com/assets/colab-badge.svg\" alt=\"Open In Colab\"/></a>"
      ]
    },
    {
      "cell_type": "markdown",
      "metadata": {
        "id": "jYEJBqqP0wfR"
      },
      "source": [
        "# **Sentiment analysis**"
      ]
    },
    {
      "cell_type": "markdown",
      "metadata": {
        "id": "1ZXke3ChwrSV"
      },
      "source": [
        "## Sommaire\r\n",
        "\r\n",
        "- [Data preparation](#1)\r\n",
        "    - [Importing librairies](#2)\r\n",
        "    - [Importing data](#3)\r\n",
        "    - [Cleaning data](#4)\r\n",
        "    - [Displaying vocabulary](#5)\r\n",
        "- [Training our model](#6)\r\n",
        "    - [2.0 Initialisation du modèle](#2)\r\n",
        "        - [Exercise 01](#ex-01)"
      ]
    },
    {
      "cell_type": "markdown",
      "metadata": {
        "id": "KrFGmt-d2QDE"
      },
      "source": [
        "<a name='1'></a>\r\n",
        "##Data prepatation"
      ]
    },
    {
      "cell_type": "markdown",
      "metadata": {
        "id": "ia1d2tK1xKXe"
      },
      "source": [
        "<a name='2'></a>\r\n",
        "###First step : Importing librairies"
      ]
    },
    {
      "cell_type": "code",
      "metadata": {
        "colab": {
          "base_uri": "https://localhost:8080/"
        },
        "id": "IQ8q2HiOvLpC",
        "outputId": "1f752e35-812e-46a2-a62a-1c88c955d6cc"
      },
      "source": [
        "import tensorflow as tf\r\n",
        "import matplotlib.pyplot as plt\r\n",
        "import pandas as pd\r\n",
        "import numpy as np\r\n",
        "\r\n",
        "import nltk \r\n",
        "nltk.download('stopwords')\r\n",
        "from nltk.corpus import stopwords\r\n",
        "from nltk.stem.snowball import EnglishStemmer\r\n",
        "\r\n",
        "from sklearn.model_selection import train_test_split\r\n",
        "from sklearn.preprocessing import LabelEncoder\r\n",
        "import re"
      ],
      "execution_count": 144,
      "outputs": [
        {
          "output_type": "stream",
          "text": [
            "[nltk_data] Downloading package stopwords to /root/nltk_data...\n",
            "[nltk_data]   Package stopwords is already up-to-date!\n"
          ],
          "name": "stdout"
        }
      ]
    },
    {
      "cell_type": "markdown",
      "metadata": {
        "id": "jLfy9051S-gi"
      },
      "source": [
        "<a name='3'></a>\r\n",
        "###Importing data"
      ]
    },
    {
      "cell_type": "code",
      "metadata": {
        "colab": {
          "base_uri": "https://localhost:8080/"
        },
        "id": "KKZQUfyjylcV",
        "outputId": "36e5a913-1052-4362-e0c9-779882cc9756"
      },
      "source": [
        "from google.colab import drive\r\n",
        "drive.mount('/content/gdrive', force_remount=True)"
      ],
      "execution_count": 113,
      "outputs": [
        {
          "output_type": "stream",
          "text": [
            "Mounted at /content/gdrive\n"
          ],
          "name": "stdout"
        }
      ]
    },
    {
      "cell_type": "code",
      "metadata": {
        "id": "Swz_LjJ4yv3q"
      },
      "source": [
        "df = pd.read_csv('gdrive/MyDrive/NLP_DATA/training.1600000.processed.noemoticon.csv', encoding = \"ISO-8859-1\")\r\n",
        "df.columns = ['sentiment', 'id', 'date', 'query', 'user_id', 'original_tweet']"
      ],
      "execution_count": 139,
      "outputs": []
    },
    {
      "cell_type": "code",
      "metadata": {
        "colab": {
          "base_uri": "https://localhost:8080/",
          "height": 206
        },
        "id": "ddNFtsXAz5bB",
        "outputId": "3d700fc2-0aca-4f9e-81ea-b578d8225f18"
      },
      "source": [
        "df.head()"
      ],
      "execution_count": 140,
      "outputs": [
        {
          "output_type": "execute_result",
          "data": {
            "text/html": [
              "<div>\n",
              "<style scoped>\n",
              "    .dataframe tbody tr th:only-of-type {\n",
              "        vertical-align: middle;\n",
              "    }\n",
              "\n",
              "    .dataframe tbody tr th {\n",
              "        vertical-align: top;\n",
              "    }\n",
              "\n",
              "    .dataframe thead th {\n",
              "        text-align: right;\n",
              "    }\n",
              "</style>\n",
              "<table border=\"1\" class=\"dataframe\">\n",
              "  <thead>\n",
              "    <tr style=\"text-align: right;\">\n",
              "      <th></th>\n",
              "      <th>sentiment</th>\n",
              "      <th>id</th>\n",
              "      <th>date</th>\n",
              "      <th>query</th>\n",
              "      <th>user_id</th>\n",
              "      <th>original_tweet</th>\n",
              "    </tr>\n",
              "  </thead>\n",
              "  <tbody>\n",
              "    <tr>\n",
              "      <th>0</th>\n",
              "      <td>0</td>\n",
              "      <td>1467810672</td>\n",
              "      <td>Mon Apr 06 22:19:49 PDT 2009</td>\n",
              "      <td>NO_QUERY</td>\n",
              "      <td>scotthamilton</td>\n",
              "      <td>is upset that he can't update his Facebook by ...</td>\n",
              "    </tr>\n",
              "    <tr>\n",
              "      <th>1</th>\n",
              "      <td>0</td>\n",
              "      <td>1467810917</td>\n",
              "      <td>Mon Apr 06 22:19:53 PDT 2009</td>\n",
              "      <td>NO_QUERY</td>\n",
              "      <td>mattycus</td>\n",
              "      <td>@Kenichan I dived many times for the ball. Man...</td>\n",
              "    </tr>\n",
              "    <tr>\n",
              "      <th>2</th>\n",
              "      <td>0</td>\n",
              "      <td>1467811184</td>\n",
              "      <td>Mon Apr 06 22:19:57 PDT 2009</td>\n",
              "      <td>NO_QUERY</td>\n",
              "      <td>ElleCTF</td>\n",
              "      <td>my whole body feels itchy and like its on fire</td>\n",
              "    </tr>\n",
              "    <tr>\n",
              "      <th>3</th>\n",
              "      <td>0</td>\n",
              "      <td>1467811193</td>\n",
              "      <td>Mon Apr 06 22:19:57 PDT 2009</td>\n",
              "      <td>NO_QUERY</td>\n",
              "      <td>Karoli</td>\n",
              "      <td>@nationwideclass no, it's not behaving at all....</td>\n",
              "    </tr>\n",
              "    <tr>\n",
              "      <th>4</th>\n",
              "      <td>0</td>\n",
              "      <td>1467811372</td>\n",
              "      <td>Mon Apr 06 22:20:00 PDT 2009</td>\n",
              "      <td>NO_QUERY</td>\n",
              "      <td>joy_wolf</td>\n",
              "      <td>@Kwesidei not the whole crew</td>\n",
              "    </tr>\n",
              "  </tbody>\n",
              "</table>\n",
              "</div>"
            ],
            "text/plain": [
              "   sentiment  ...                                     original_tweet\n",
              "0          0  ...  is upset that he can't update his Facebook by ...\n",
              "1          0  ...  @Kenichan I dived many times for the ball. Man...\n",
              "2          0  ...    my whole body feels itchy and like its on fire \n",
              "3          0  ...  @nationwideclass no, it's not behaving at all....\n",
              "4          0  ...                      @Kwesidei not the whole crew \n",
              "\n",
              "[5 rows x 6 columns]"
            ]
          },
          "metadata": {
            "tags": []
          },
          "execution_count": 140
        }
      ]
    },
    {
      "cell_type": "code",
      "metadata": {
        "id": "9HW8-sjIvP7J"
      },
      "source": [
        "#Remove everything execpt tweet content\r\n",
        "df = df.drop(['id', 'date', 'query', 'user_id'], axis=1)"
      ],
      "execution_count": 141,
      "outputs": []
    },
    {
      "cell_type": "code",
      "metadata": {
        "colab": {
          "base_uri": "https://localhost:8080/",
          "height": 206
        },
        "id": "fsGNisYH2PcU",
        "outputId": "fb887cc6-ff0e-452d-e71e-363a6ad8dbe7"
      },
      "source": [
        "#We change label in sentiment : 0 -> Negative 4 -> Positive\r\n",
        "label_to_sentiment = {0:\"Negative\", 4:\"Positive\"}\r\n",
        "def label_decoder(label):\r\n",
        "  return label_to_sentiment[label]\r\n",
        "df.sentiment = df.sentiment.apply(lambda x: label_decoder(x))\r\n",
        "df.head()"
      ],
      "execution_count": 142,
      "outputs": [
        {
          "output_type": "execute_result",
          "data": {
            "text/html": [
              "<div>\n",
              "<style scoped>\n",
              "    .dataframe tbody tr th:only-of-type {\n",
              "        vertical-align: middle;\n",
              "    }\n",
              "\n",
              "    .dataframe tbody tr th {\n",
              "        vertical-align: top;\n",
              "    }\n",
              "\n",
              "    .dataframe thead th {\n",
              "        text-align: right;\n",
              "    }\n",
              "</style>\n",
              "<table border=\"1\" class=\"dataframe\">\n",
              "  <thead>\n",
              "    <tr style=\"text-align: right;\">\n",
              "      <th></th>\n",
              "      <th>sentiment</th>\n",
              "      <th>original_tweet</th>\n",
              "    </tr>\n",
              "  </thead>\n",
              "  <tbody>\n",
              "    <tr>\n",
              "      <th>0</th>\n",
              "      <td>Negative</td>\n",
              "      <td>is upset that he can't update his Facebook by ...</td>\n",
              "    </tr>\n",
              "    <tr>\n",
              "      <th>1</th>\n",
              "      <td>Negative</td>\n",
              "      <td>@Kenichan I dived many times for the ball. Man...</td>\n",
              "    </tr>\n",
              "    <tr>\n",
              "      <th>2</th>\n",
              "      <td>Negative</td>\n",
              "      <td>my whole body feels itchy and like its on fire</td>\n",
              "    </tr>\n",
              "    <tr>\n",
              "      <th>3</th>\n",
              "      <td>Negative</td>\n",
              "      <td>@nationwideclass no, it's not behaving at all....</td>\n",
              "    </tr>\n",
              "    <tr>\n",
              "      <th>4</th>\n",
              "      <td>Negative</td>\n",
              "      <td>@Kwesidei not the whole crew</td>\n",
              "    </tr>\n",
              "  </tbody>\n",
              "</table>\n",
              "</div>"
            ],
            "text/plain": [
              "  sentiment                                     original_tweet\n",
              "0  Negative  is upset that he can't update his Facebook by ...\n",
              "1  Negative  @Kenichan I dived many times for the ball. Man...\n",
              "2  Negative    my whole body feels itchy and like its on fire \n",
              "3  Negative  @nationwideclass no, it's not behaving at all....\n",
              "4  Negative                      @Kwesidei not the whole crew "
            ]
          },
          "metadata": {
            "tags": []
          },
          "execution_count": 142
        }
      ]
    },
    {
      "cell_type": "markdown",
      "metadata": {
        "id": "9CuhCpbCUu2Y"
      },
      "source": [
        "Dzisplay data distribution"
      ]
    },
    {
      "cell_type": "code",
      "metadata": {
        "colab": {
          "base_uri": "https://localhost:8080/",
          "height": 299
        },
        "id": "HkbAdtB22PbN",
        "outputId": "5878a441-80a9-432c-cd4f-e0e3899b7145"
      },
      "source": [
        "val_count = df.sentiment.value_counts()\r\n",
        "\r\n",
        "plt.figure(figsize=(8,4))\r\n",
        "plt.bar(val_count.index, val_count.values)\r\n",
        "plt.title(\"Sentiment Data Distribution\")"
      ],
      "execution_count": 143,
      "outputs": [
        {
          "output_type": "execute_result",
          "data": {
            "text/plain": [
              "Text(0.5, 1.0, 'Sentiment Data Distribution')"
            ]
          },
          "metadata": {
            "tags": []
          },
          "execution_count": 143
        },
        {
          "output_type": "display_data",
          "data": {
            "image/png": "[encoded data removed]",
            "text/plain": [
              "<Figure size 576x288 with 1 Axes>"
            ]
          },
          "metadata": {
            "tags": [],
            "needs_background": "light"
          }
        }
      ]
    },
    {
      "cell_type": "markdown",
      "metadata": {
        "id": "ZhslaytSY2Tc"
      },
      "source": [
        "Shuffle dataset"
      ]
    },
    {
      "cell_type": "code",
      "metadata": {
        "colab": {
          "base_uri": "https://localhost:8080/",
          "height": 363
        },
        "id": "D2eyM0sP2PXi",
        "outputId": "f8e0ecb9-43dd-4929-a01c-99f455c1db2c"
      },
      "source": [
        "import random\r\n",
        "random_idx_list = [random.randint(1,len(df.text)) for i in range(10)] # creates random indexes to choose from dataframe\r\n",
        "df.loc[random_idx_list,:].head(10) # Returns the rows with the index and display it"
      ],
      "execution_count": 119,
      "outputs": [
        {
          "output_type": "execute_result",
          "data": {
            "text/html": [
              "<div>\n",
              "<style scoped>\n",
              "    .dataframe tbody tr th:only-of-type {\n",
              "        vertical-align: middle;\n",
              "    }\n",
              "\n",
              "    .dataframe tbody tr th {\n",
              "        vertical-align: top;\n",
              "    }\n",
              "\n",
              "    .dataframe thead th {\n",
              "        text-align: right;\n",
              "    }\n",
              "</style>\n",
              "<table border=\"1\" class=\"dataframe\">\n",
              "  <thead>\n",
              "    <tr style=\"text-align: right;\">\n",
              "      <th></th>\n",
              "      <th>sentiment</th>\n",
              "      <th>text</th>\n",
              "    </tr>\n",
              "  </thead>\n",
              "  <tbody>\n",
              "    <tr>\n",
              "      <th>1201732</th>\n",
              "      <td>Positive</td>\n",
              "      <td>@evanhindra waaeehhh.. weleh... u keep them fo...</td>\n",
              "    </tr>\n",
              "    <tr>\n",
              "      <th>1147025</th>\n",
              "      <td>Positive</td>\n",
              "      <td>@ashhattack yes mam! I think they should play ...</td>\n",
              "    </tr>\n",
              "    <tr>\n",
              "      <th>1598334</th>\n",
              "      <td>Positive</td>\n",
              "      <td>@phaoloo : I've been sick, but now I'm getting...</td>\n",
              "    </tr>\n",
              "    <tr>\n",
              "      <th>665935</th>\n",
              "      <td>Negative</td>\n",
              "      <td>I do so much deleting of un-wanted followers t...</td>\n",
              "    </tr>\n",
              "    <tr>\n",
              "      <th>50907</th>\n",
              "      <td>Negative</td>\n",
              "      <td>is annoyed  x</td>\n",
              "    </tr>\n",
              "    <tr>\n",
              "      <th>904357</th>\n",
              "      <td>Positive</td>\n",
              "      <td>@meriel I know it's not meeeee. Im surprised e...</td>\n",
              "    </tr>\n",
              "    <tr>\n",
              "      <th>465836</th>\n",
              "      <td>Negative</td>\n",
              "      <td>hates the fact that i have summer school almos...</td>\n",
              "    </tr>\n",
              "    <tr>\n",
              "      <th>404489</th>\n",
              "      <td>Negative</td>\n",
              "      <td>Suppose i should go to bed! I need to revise f...</td>\n",
              "    </tr>\n",
              "    <tr>\n",
              "      <th>1565486</th>\n",
              "      <td>Positive</td>\n",
              "      <td>GR8 job 2! @realandrews In case yall didn't kn...</td>\n",
              "    </tr>\n",
              "    <tr>\n",
              "      <th>1157119</th>\n",
              "      <td>Positive</td>\n",
              "      <td>Going home tomorrow</td>\n",
              "    </tr>\n",
              "  </tbody>\n",
              "</table>\n",
              "</div>"
            ],
            "text/plain": [
              "        sentiment                                               text\n",
              "1201732  Positive  @evanhindra waaeehhh.. weleh... u keep them fo...\n",
              "1147025  Positive  @ashhattack yes mam! I think they should play ...\n",
              "1598334  Positive  @phaoloo : I've been sick, but now I'm getting...\n",
              "665935   Negative  I do so much deleting of un-wanted followers t...\n",
              "50907    Negative                                      is annoyed  x\n",
              "904357   Positive  @meriel I know it's not meeeee. Im surprised e...\n",
              "465836   Negative  hates the fact that i have summer school almos...\n",
              "404489   Negative  Suppose i should go to bed! I need to revise f...\n",
              "1565486  Positive  GR8 job 2! @realandrews In case yall didn't kn...\n",
              "1157119  Positive                               Going home tomorrow "
            ]
          },
          "metadata": {
            "tags": []
          },
          "execution_count": 119
        }
      ]
    },
    {
      "cell_type": "markdown",
      "metadata": {
        "id": "EMycuH4sZHof"
      },
      "source": [
        "<a name='4'></a>\r\n",
        "###Cleaning data"
      ]
    },
    {
      "cell_type": "code",
      "metadata": {
        "id": "rXg86hEx2PUH"
      },
      "source": [
        "stop_words = stopwords.words('english')\r\n",
        "\r\n",
        "stemmer = EnglishStemmer()\r\n",
        "\r\n",
        "text_cleaning_re = \"@\\S+|https?:\\S+|http?:\\S|[^A-Za-z0-9]+\""
      ],
      "execution_count": 145,
      "outputs": []
    },
    {
      "cell_type": "code",
      "metadata": {
        "id": "cYe76gL62PRk"
      },
      "source": [
        "def clean_data(text, stem=False, stop=False):\r\n",
        "  text = re.sub(text_cleaning_re, ' ', str(text).lower()).strip()\r\n",
        "  tokens = []\r\n",
        "  for token in text.split():\r\n",
        "    if stop:\r\n",
        "      if stem:\r\n",
        "        tokens.append(stemmer.stem(token))\r\n",
        "      else:\r\n",
        "        tokens.append(token)\r\n",
        "    else: \r\n",
        "      if token not in stop_words:\r\n",
        "        if stem:\r\n",
        "          tokens.append(stemmer.stem(token))\r\n",
        "        else:\r\n",
        "          tokens.append(token)       \r\n",
        "  return \" \".join(tokens)"
      ],
      "execution_count": 150,
      "outputs": []
    },
    {
      "cell_type": "code",
      "metadata": {
        "id": "Zk-a-2VZ2PPQ"
      },
      "source": [
        "df['text'] = df.original_tweet.apply(lambda x: clean_data(x))"
      ],
      "execution_count": 147,
      "outputs": []
    },
    {
      "cell_type": "code",
      "metadata": {
        "id": "ouXwBi11GBpf"
      },
      "source": [
        "df['text_stem'] = df.original_tweet.apply(lambda x: clean_data(x, True))"
      ],
      "execution_count": 148,
      "outputs": []
    },
    {
      "cell_type": "code",
      "metadata": {
        "id": "DzIsGL45GJFs"
      },
      "source": [
        "df['text_stem_stop'] = df.original_tweet.apply(lambda x: clean_data(x, True, True))"
      ],
      "execution_count": 151,
      "outputs": []
    },
    {
      "cell_type": "code",
      "metadata": {
        "colab": {
          "base_uri": "https://localhost:8080/",
          "height": 275
        },
        "id": "pBVB5M-sc4C4",
        "outputId": "13d0ce86-6ca7-4860-d243-1cbc6306c21a"
      },
      "source": [
        "df.head()"
      ],
      "execution_count": 152,
      "outputs": [
        {
          "output_type": "execute_result",
          "data": {
            "text/html": [
              "<div>\n",
              "<style scoped>\n",
              "    .dataframe tbody tr th:only-of-type {\n",
              "        vertical-align: middle;\n",
              "    }\n",
              "\n",
              "    .dataframe tbody tr th {\n",
              "        vertical-align: top;\n",
              "    }\n",
              "\n",
              "    .dataframe thead th {\n",
              "        text-align: right;\n",
              "    }\n",
              "</style>\n",
              "<table border=\"1\" class=\"dataframe\">\n",
              "  <thead>\n",
              "    <tr style=\"text-align: right;\">\n",
              "      <th></th>\n",
              "      <th>sentiment</th>\n",
              "      <th>original_tweet</th>\n",
              "      <th>text</th>\n",
              "      <th>text_stem</th>\n",
              "      <th>text_stem_stop</th>\n",
              "    </tr>\n",
              "  </thead>\n",
              "  <tbody>\n",
              "    <tr>\n",
              "      <th>0</th>\n",
              "      <td>Negative</td>\n",
              "      <td>is upset that he can't update his Facebook by ...</td>\n",
              "      <td>is upset that he can t updat his facebook by t...</td>\n",
              "      <td>is upset that he can t updat his facebook by t...</td>\n",
              "      <td>is upset that he can t updat his facebook by t...</td>\n",
              "    </tr>\n",
              "    <tr>\n",
              "      <th>1</th>\n",
              "      <td>Negative</td>\n",
              "      <td>@Kenichan I dived many times for the ball. Man...</td>\n",
              "      <td>i dive mani time for the ball manag to save 50...</td>\n",
              "      <td>i dive mani time for the ball manag to save 50...</td>\n",
              "      <td>i dive mani time for the ball manag to save 50...</td>\n",
              "    </tr>\n",
              "    <tr>\n",
              "      <th>2</th>\n",
              "      <td>Negative</td>\n",
              "      <td>my whole body feels itchy and like its on fire</td>\n",
              "      <td>my whole bodi feel itchi and like it on fire</td>\n",
              "      <td>my whole bodi feel itchi and like it on fire</td>\n",
              "      <td>my whole bodi feel itchi and like it on fire</td>\n",
              "    </tr>\n",
              "    <tr>\n",
              "      <th>3</th>\n",
              "      <td>Negative</td>\n",
              "      <td>@nationwideclass no, it's not behaving at all....</td>\n",
              "      <td>no it s not behav at all i m mad whi am i here...</td>\n",
              "      <td>no it s not behav at all i m mad whi am i here...</td>\n",
              "      <td>no it s not behav at all i m mad whi am i here...</td>\n",
              "    </tr>\n",
              "    <tr>\n",
              "      <th>4</th>\n",
              "      <td>Negative</td>\n",
              "      <td>@Kwesidei not the whole crew</td>\n",
              "      <td>not the whole crew</td>\n",
              "      <td>not the whole crew</td>\n",
              "      <td>not the whole crew</td>\n",
              "    </tr>\n",
              "  </tbody>\n",
              "</table>\n",
              "</div>"
            ],
            "text/plain": [
              "  sentiment  ...                                     text_stem_stop\n",
              "0  Negative  ...  is upset that he can t updat his facebook by t...\n",
              "1  Negative  ...  i dive mani time for the ball manag to save 50...\n",
              "2  Negative  ...       my whole bodi feel itchi and like it on fire\n",
              "3  Negative  ...  no it s not behav at all i m mad whi am i here...\n",
              "4  Negative  ...                                 not the whole crew\n",
              "\n",
              "[5 rows x 5 columns]"
            ]
          },
          "metadata": {
            "tags": []
          },
          "execution_count": 152
        }
      ]
    },
    {
      "cell_type": "markdown",
      "metadata": {
        "id": "zmmkrDfIqf64"
      },
      "source": [
        "<a name='5'></a>\r\n",
        "###Displaying vocabulary"
      ]
    },
    {
      "cell_type": "code",
      "metadata": {
        "colab": {
          "base_uri": "https://localhost:8080/"
        },
        "id": "RRe_orlkdLWu",
        "outputId": "7fcad633-9932-4c52-f90d-c106478868d1"
      },
      "source": [
        "positive_words = []\r\n",
        "for tweet in df[df.sentiment == 'Positive'].text :\r\n",
        "  for word in tweet.split():\r\n",
        "    positive_words.append(word)\r\n",
        "\r\n",
        "positive_words_freq = dict()\r\n",
        "for w in positive_words:\r\n",
        "    if w not in positive_words_freq.keys():\r\n",
        "      positive_words_freq[w] = 1\r\n",
        "    else:\r\n",
        "      positive_words_freq[w] += 1\r\n",
        "\r\n",
        "positive_words_freq = dict(reversed(sorted(positive_words_freq.items(), key=lambda item: item[1])))\r\n",
        "print({k: positive_words_freq[k] for k in list(positive_words_freq)[:10]})"
      ],
      "execution_count": 85,
      "outputs": [
        {
          "output_type": "stream",
          "text": [
            "{'i': 382903, 'the': 266084, 'to': 252546, 'a': 199680, 'you': 198328, 'and': 149638, 'it': 147800, 'my': 125975, 'for': 117369, 'is': 108935}\n"
          ],
          "name": "stdout"
        }
      ]
    },
    {
      "cell_type": "code",
      "metadata": {
        "id": "XRlsprW8f2-N",
        "colab": {
          "base_uri": "https://localhost:8080/"
        },
        "outputId": "3d264ceb-9adf-484c-feaf-e74c9d78017a"
      },
      "source": [
        "negative_words = []\r\n",
        "for tweet in df[df.sentiment == 'Negative'].text :\r\n",
        "  for word in tweet.split():\r\n",
        "    negative_words.append(word)\r\n",
        "\r\n",
        "negative_words_freq = dict()\r\n",
        "for w in negative_words:\r\n",
        "    if w not in negative_words_freq.keys():\r\n",
        "      negative_words_freq[w] = 1\r\n",
        "    else:\r\n",
        "      negative_words_freq[w] += 1\r\n",
        "\r\n",
        "negative_words_freq = dict(reversed(sorted(negative_words_freq.items(), key=lambda item: item[1])))\r\n",
        "print({k: negative_words_freq[k] for k in list(negative_words_freq)[:10]})"
      ],
      "execution_count": 86,
      "outputs": [
        {
          "output_type": "stream",
          "text": [
            "{'i': 575468, 'to': 313150, 'the': 257902, 'my': 190840, 'a': 183131, 'it': 157476, 'and': 153965, 'is': 128032, 't': 125430, 'in': 115442}\n"
          ],
          "name": "stdout"
        }
      ]
    },
    {
      "cell_type": "markdown",
      "metadata": {
        "id": "q7ClQJyb2Rc4"
      },
      "source": [
        "<a name='6'></a>\r\n",
        "##Model preparation"
      ]
    },
    {
      "cell_type": "markdown",
      "metadata": {
        "id": "bWJd5nH31q_Z"
      },
      "source": [
        "<a name='7'></a>\r\n",
        "###Spliting dataset\r\n",
        "\r\n",
        "We split out dataset into train data (80%) and test data (20%)"
      ]
    },
    {
      "cell_type": "code",
      "metadata": {
        "id": "7JzG-fE03RsW"
      },
      "source": [
        "TRAIN_SIZE = 0.8\r\n",
        "MAX_NB_WORDS = 100000\r\n",
        "MAX_SEQUENCE_LENGTH = 30"
      ],
      "execution_count": 87,
      "outputs": []
    },
    {
      "cell_type": "code",
      "metadata": {
        "colab": {
          "base_uri": "https://localhost:8080/"
        },
        "id": "H8642Qxq3Rq8",
        "outputId": "b30218ee-32d2-4d06-84a6-7e8b3c8bba30"
      },
      "source": [
        "train_data, test_data = train_test_split(df, test_size=1-TRAIN_SIZE, random_state=7)\r\n",
        "print(\"Train Data size:\", len(train_data))\r\n",
        "print(\"Test Data size\", len(test_data))"
      ],
      "execution_count": 88,
      "outputs": [
        {
          "output_type": "stream",
          "text": [
            "Train Data size: 1279999\n",
            "Test Data size 320000\n"
          ],
          "name": "stdout"
        }
      ]
    },
    {
      "cell_type": "code",
      "metadata": {
        "colab": {
          "base_uri": "https://localhost:8080/",
          "height": 363
        },
        "id": "kbTJfAkQ3Rnl",
        "outputId": "a5414619-d876-4e4b-96c9-a891533d87c4"
      },
      "source": [
        "train_data.head(10)"
      ],
      "execution_count": 89,
      "outputs": [
        {
          "output_type": "execute_result",
          "data": {
            "text/html": [
              "<div>\n",
              "<style scoped>\n",
              "    .dataframe tbody tr th:only-of-type {\n",
              "        vertical-align: middle;\n",
              "    }\n",
              "\n",
              "    .dataframe tbody tr th {\n",
              "        vertical-align: top;\n",
              "    }\n",
              "\n",
              "    .dataframe thead th {\n",
              "        text-align: right;\n",
              "    }\n",
              "</style>\n",
              "<table border=\"1\" class=\"dataframe\">\n",
              "  <thead>\n",
              "    <tr style=\"text-align: right;\">\n",
              "      <th></th>\n",
              "      <th>sentiment</th>\n",
              "      <th>text</th>\n",
              "    </tr>\n",
              "  </thead>\n",
              "  <tbody>\n",
              "    <tr>\n",
              "      <th>1176709</th>\n",
              "      <td>Positive</td>\n",
              "      <td>lol you will get what s coming to you in a goo...</td>\n",
              "    </tr>\n",
              "    <tr>\n",
              "      <th>641121</th>\n",
              "      <td>Negative</td>\n",
              "      <td>i would miss dreaming if i didn t anymore</td>\n",
              "    </tr>\n",
              "    <tr>\n",
              "      <th>1132400</th>\n",
              "      <td>Positive</td>\n",
              "      <td>poletii check that out i m following that woma...</td>\n",
              "    </tr>\n",
              "    <tr>\n",
              "      <th>130866</th>\n",
              "      <td>Negative</td>\n",
              "      <td>im sick the only thing that would make me feel...</td>\n",
              "    </tr>\n",
              "    <tr>\n",
              "      <th>1235875</th>\n",
              "      <td>Positive</td>\n",
              "      <td>sounds like my cup of tea where do we sign up</td>\n",
              "    </tr>\n",
              "    <tr>\n",
              "      <th>1568154</th>\n",
              "      <td>Positive</td>\n",
              "      <td>i think i m going to take a hot bath amp liste...</td>\n",
              "    </tr>\n",
              "    <tr>\n",
              "      <th>758235</th>\n",
              "      <td>Negative</td>\n",
              "      <td>i feel tired today i m not going to gym</td>\n",
              "    </tr>\n",
              "    <tr>\n",
              "      <th>1446219</th>\n",
              "      <td>Positive</td>\n",
              "      <td>weekend resting in peace finally</td>\n",
              "    </tr>\n",
              "    <tr>\n",
              "      <th>763239</th>\n",
              "      <td>Negative</td>\n",
              "      <td>i am sooo jealous i hope one day i can make it...</td>\n",
              "    </tr>\n",
              "    <tr>\n",
              "      <th>584093</th>\n",
              "      <td>Negative</td>\n",
              "      <td>don t say that i ll cry hahah</td>\n",
              "    </tr>\n",
              "  </tbody>\n",
              "</table>\n",
              "</div>"
            ],
            "text/plain": [
              "        sentiment                                               text\n",
              "1176709  Positive  lol you will get what s coming to you in a goo...\n",
              "641121   Negative          i would miss dreaming if i didn t anymore\n",
              "1132400  Positive  poletii check that out i m following that woma...\n",
              "130866   Negative  im sick the only thing that would make me feel...\n",
              "1235875  Positive      sounds like my cup of tea where do we sign up\n",
              "1568154  Positive  i think i m going to take a hot bath amp liste...\n",
              "758235   Negative            i feel tired today i m not going to gym\n",
              "1446219  Positive                   weekend resting in peace finally\n",
              "763239   Negative  i am sooo jealous i hope one day i can make it...\n",
              "584093   Negative                      don t say that i ll cry hahah"
            ]
          },
          "metadata": {
            "tags": []
          },
          "execution_count": 89
        }
      ]
    },
    {
      "cell_type": "markdown",
      "metadata": {
        "id": "3eZpOqjC163s"
      },
      "source": [
        "<a name='8'></a>\r\n",
        "###Tokenize"
      ]
    },
    {
      "cell_type": "code",
      "metadata": {
        "colab": {
          "base_uri": "https://localhost:8080/"
        },
        "id": "9q7u1rEq3Rk_",
        "outputId": "f93a51e4-7e07-479c-eeae-2ea0527036a2"
      },
      "source": [
        "from keras.preprocessing.text import Tokenizer\r\n",
        "\r\n",
        "tokenizer = Tokenizer()\r\n",
        "tokenizer.fit_on_texts(train_data.text)\r\n",
        "\r\n",
        "word_index = tokenizer.word_index\r\n",
        "vocab_size = len(tokenizer.word_index) + 1\r\n",
        "print(\"Vocabulary Size :\", vocab_size)"
      ],
      "execution_count": 90,
      "outputs": [
        {
          "output_type": "stream",
          "text": [
            "Vocabulary Size : 290811\n"
          ],
          "name": "stdout"
        }
      ]
    },
    {
      "cell_type": "code",
      "metadata": {
        "colab": {
          "base_uri": "https://localhost:8080/"
        },
        "id": "P6ZzX5PV3RiX",
        "outputId": "6d7e6bbf-a91f-412a-d43a-9aff71d1fa98"
      },
      "source": [
        "from keras.preprocessing.sequence import pad_sequences\r\n",
        "\r\n",
        "x_train = pad_sequences(tokenizer.texts_to_sequences(train_data.text), maxlen = MAX_SEQUENCE_LENGTH)\r\n",
        "x_test = pad_sequences(tokenizer.texts_to_sequences(test_data.text), maxlen = MAX_SEQUENCE_LENGTH)\r\n",
        "\r\n",
        "print(\"x_train shape:\", x_train.shape)\r\n",
        "print(\"x_test shape:\", x_test.shape)"
      ],
      "execution_count": 91,
      "outputs": [
        {
          "output_type": "stream",
          "text": [
            "Training X Shape: (1279999, 30)\n",
            "Testing X Shape: (320000, 30)\n"
          ],
          "name": "stdout"
        }
      ]
    },
    {
      "cell_type": "code",
      "metadata": {
        "id": "HOTNrpKr3Rfy"
      },
      "source": [
        "labels = train_data.sentiment.unique().tolist()"
      ],
      "execution_count": 92,
      "outputs": []
    },
    {
      "cell_type": "code",
      "metadata": {
        "colab": {
          "base_uri": "https://localhost:8080/"
        },
        "id": "Dd1VFU-b3Rd0",
        "outputId": "6cfc9b1b-020d-4665-bec0-498a414b5277"
      },
      "source": [
        "encoder = LabelEncoder()\r\n",
        "encoder.fit(train_data.sentiment.to_list())\r\n",
        "\r\n",
        "y_train = encoder.transform(train_data.sentiment.to_list())\r\n",
        "y_test = encoder.transform(test_data.sentiment.to_list())\r\n",
        "\r\n",
        "y_train = y_train.reshape(-1,1)\r\n",
        "y_test = y_test.reshape(-1,1)\r\n",
        "\r\n",
        "print(\"y_train shape:\", y_train.shape)\r\n",
        "print(\"y_test shape:\", y_test.shape)"
      ],
      "execution_count": 93,
      "outputs": [
        {
          "output_type": "stream",
          "text": [
            "y_train shape: (1279999, 1)\n",
            "y_test shape: (320000, 1)\n"
          ],
          "name": "stdout"
        }
      ]
    },
    {
      "cell_type": "markdown",
      "metadata": {
        "id": "bJXauhkNwBPm"
      },
      "source": [
        "<a name='9'></a>\r\n",
        "###Word embedding\r\n",
        "We will use GloVe to build our embedding *layer*"
      ]
    },
    {
      "cell_type": "code",
      "metadata": {
        "id": "RnPEO7R13Rar"
      },
      "source": [
        "#!wget http://nlp.stanford.edu/data/glove.6B.zip\r\n",
        "#!unzip glove.6B.zip"
      ],
      "execution_count": 109,
      "outputs": []
    },
    {
      "cell_type": "code",
      "metadata": {
        "id": "BW8WPrqB3RYu"
      },
      "source": [
        "#GLOVE_EMB = '/kaggle/working/glove.6B.300d.txt'\r\n",
        "GLOVE_EMB = '/content/glove.6B.300d.txt'\r\n",
        "EMBEDDING_DIM = 300\r\n",
        "LR = 1e-3\r\n",
        "BATCH_SIZE = 1024\r\n",
        "EPOCHS = 10\r\n",
        "MODEL_PATH = '.../output/kaggle/working/best_model.hdf5'"
      ],
      "execution_count": 95,
      "outputs": []
    },
    {
      "cell_type": "code",
      "metadata": {
        "colab": {
          "base_uri": "https://localhost:8080/"
        },
        "id": "EHfOs0kR3RV5",
        "outputId": "00761c66-7358-426c-9e32-9000c9a8827a"
      },
      "source": [
        "embeddings_index = {}\r\n",
        "\r\n",
        "f = open(GLOVE_EMB)\r\n",
        "for line in f:\r\n",
        "  values = line.split()\r\n",
        "  word = value = values[0]\r\n",
        "  coefs = np.asarray(values[1:], dtype='float32')\r\n",
        "  embeddings_index[word] = coefs\r\n",
        "f.close()\r\n",
        "\r\n",
        "print('Found %s word vectors.' %len(embeddings_index))"
      ],
      "execution_count": 96,
      "outputs": [
        {
          "output_type": "stream",
          "text": [
            "Found 400000 word vectors.\n"
          ],
          "name": "stdout"
        }
      ]
    },
    {
      "cell_type": "code",
      "metadata": {
        "id": "NRIaPVc03RTj"
      },
      "source": [
        "embedding_matrix = np.zeros((vocab_size, EMBEDDING_DIM))\r\n",
        "for word, i in word_index.items():\r\n",
        "  embedding_vector = embeddings_index.get(word)\r\n",
        "  if embedding_vector is not None:\r\n",
        "    embedding_matrix[i] = embedding_vector"
      ],
      "execution_count": 97,
      "outputs": []
    },
    {
      "cell_type": "code",
      "metadata": {
        "id": "JhXJ3nXC3RQ6"
      },
      "source": [
        "embedding_layer = tf.keras.layers.Embedding(vocab_size,\r\n",
        "                                          EMBEDDING_DIM,\r\n",
        "                                          weights=[embedding_matrix],\r\n",
        "                                          input_length=MAX_SEQUENCE_LENGTH,\r\n",
        "                                          trainable=False)"
      ],
      "execution_count": 98,
      "outputs": []
    },
    {
      "cell_type": "code",
      "metadata": {
        "id": "zo02zXh_3uhq"
      },
      "source": [
        "from tensorflow.keras.layers import Conv1D, Bidirectional, LSTM, Dense, Input, Dropout\r\n",
        "from tensorflow.keras.layers import SpatialDropout1D\r\n",
        "from tensorflow.keras.callbacks import ModelCheckpoint"
      ],
      "execution_count": 99,
      "outputs": []
    },
    {
      "cell_type": "markdown",
      "metadata": {
        "id": "v0Mn7fc73Cx8"
      },
      "source": [
        "<a name='10'></a>\r\n",
        "##Model training"
      ]
    },
    {
      "cell_type": "markdown",
      "metadata": {
        "id": "1TqO8ZxE21VS"
      },
      "source": [
        "<a name='10'></a>\r\n",
        "###Long Short-Term Memory"
      ]
    },
    {
      "cell_type": "code",
      "metadata": {
        "colab": {
          "base_uri": "https://localhost:8080/"
        },
        "id": "rEWisqd93ue_",
        "outputId": "4f46594d-9848-4336-eb86-eca044551c9a"
      },
      "source": [
        "sequence_input = Input(shape=(MAX_SEQUENCE_LENGTH,), dtype='int32')\r\n",
        "embedding_sequences = embedding_layer(sequence_input)\r\n",
        "x = SpatialDropout1D(0.2)(embedding_sequences)\r\n",
        "x = Conv1D(64, 5, activation='relu')(x)\r\n",
        "x = Bidirectional(LSTM(64, dropout=0.2, recurrent_dropout=0.2))(x)\r\n",
        "x = Dense(512, activation='relu')(x)\r\n",
        "x = Dropout(0.5)(x)\r\n",
        "x = Dense(512, activation='relu')(x)\r\n",
        "outputs = Dense(1, activation='sigmoid')(x)\r\n",
        "model = tf.keras.Model(sequence_input, outputs)"
      ],
      "execution_count": 100,
      "outputs": [
        {
          "output_type": "stream",
          "text": [
            "WARNING:tensorflow:Layer lstm_1 will not use cuDNN kernel since it doesn't meet the cuDNN kernel criteria. It will use generic GPU kernel as fallback when running on GPU\n",
            "WARNING:tensorflow:Layer lstm_1 will not use cuDNN kernel since it doesn't meet the cuDNN kernel criteria. It will use generic GPU kernel as fallback when running on GPU\n",
            "WARNING:tensorflow:Layer lstm_1 will not use cuDNN kernel since it doesn't meet the cuDNN kernel criteria. It will use generic GPU kernel as fallback when running on GPU\n"
          ],
          "name": "stdout"
        }
      ]
    },
    {
      "cell_type": "code",
      "metadata": {
        "id": "zuOGv7QY3ucZ"
      },
      "source": [
        "from tensorflow.keras.optimizers import Adam\r\n",
        "from tensorflow.keras.callbacks import ReduceLROnPlateau\r\n",
        "\r\n",
        "model.compile(optimizer=Adam(learning_rate=LR), loss='binary_crossentropy',\r\n",
        "              metrics=['accuracy'])\r\n",
        "ReduceLROnPlateau = ReduceLROnPlateau(factor=0.1,\r\n",
        "                                     min_lr = 0.01,\r\n",
        "                                     monitor = 'val_loss',\r\n",
        "                                     verbose = 1)"
      ],
      "execution_count": 101,
      "outputs": []
    },
    {
      "cell_type": "markdown",
      "metadata": {
        "id": "n0ye_UzN3ZTP"
      },
      "source": [
        "<a name='11'></a>\r\n",
        "###Training"
      ]
    },
    {
      "cell_type": "code",
      "metadata": {
        "colab": {
          "base_uri": "https://localhost:8080/"
        },
        "id": "j_m6Th5e3uZ4",
        "outputId": "4a38c118-1bbd-4331-f9db-3133af694ff5"
      },
      "source": [
        "print(\"Training on GPU...\") if tf.config.list_physical_devices('GPU') else print(\"Training on CPU...\")"
      ],
      "execution_count": 102,
      "outputs": [
        {
          "output_type": "stream",
          "text": [
            "Training on GPU...\n"
          ],
          "name": "stdout"
        }
      ]
    },
    {
      "cell_type": "code",
      "metadata": {
        "id": "dojPuL7V3uWz",
        "colab": {
          "base_uri": "https://localhost:8080/"
        },
        "outputId": "027bc9a9-2e8b-45a0-ac78-e699665b34ad"
      },
      "source": [
        "history = model.fit(x_train, y_train, batch_size=BATCH_SIZE, epochs=EPOCHS,\r\n",
        "                    validation_data=(x_test, y_test), callbacks=[ReduceLROnPlateau])"
      ],
      "execution_count": 103,
      "outputs": [
        {
          "output_type": "stream",
          "text": [
            "Epoch 1/10\n",
            "1250/1250 [==============================] - 267s 211ms/step - loss: 0.5169 - accuracy: 0.7386 - val_loss: 0.4321 - val_accuracy: 0.7986\n",
            "Epoch 2/10\n",
            "1250/1250 [==============================] - 264s 211ms/step - loss: 0.4413 - accuracy: 0.7936 - val_loss: 0.4157 - val_accuracy: 0.8087\n",
            "Epoch 3/10\n",
            "1250/1250 [==============================] - 263s 210ms/step - loss: 0.4242 - accuracy: 0.8034 - val_loss: 0.4086 - val_accuracy: 0.8125\n",
            "Epoch 4/10\n",
            "1250/1250 [==============================] - 262s 210ms/step - loss: 0.4158 - accuracy: 0.8086 - val_loss: 0.4076 - val_accuracy: 0.8128\n",
            "Epoch 5/10\n",
            "1250/1250 [==============================] - 261s 209ms/step - loss: 0.4110 - accuracy: 0.8109 - val_loss: 0.4028 - val_accuracy: 0.8158\n",
            "Epoch 6/10\n",
            "1250/1250 [==============================] - 261s 209ms/step - loss: 0.4051 - accuracy: 0.8146 - val_loss: 0.4008 - val_accuracy: 0.8175\n",
            "Epoch 7/10\n",
            "1250/1250 [==============================] - 259s 207ms/step - loss: 0.4018 - accuracy: 0.8165 - val_loss: 0.4004 - val_accuracy: 0.8191\n",
            "Epoch 8/10\n",
            "1250/1250 [==============================] - 260s 208ms/step - loss: 0.3984 - accuracy: 0.8185 - val_loss: 0.3976 - val_accuracy: 0.8195\n",
            "Epoch 9/10\n",
            "1250/1250 [==============================] - 261s 209ms/step - loss: 0.3958 - accuracy: 0.8196 - val_loss: 0.3961 - val_accuracy: 0.8204\n",
            "Epoch 10/10\n",
            "1250/1250 [==============================] - 263s 211ms/step - loss: 0.3937 - accuracy: 0.8210 - val_loss: 0.3963 - val_accuracy: 0.8206\n"
          ],
          "name": "stdout"
        }
      ]
    },
    {
      "cell_type": "markdown",
      "metadata": {
        "id": "LcQtvvkB3fHK"
      },
      "source": [
        "<a name='12'></a>\r\n",
        "##Model evaluation"
      ]
    },
    {
      "cell_type": "markdown",
      "metadata": {
        "id": "V_MLyX833pBQ"
      },
      "source": [
        "<a name='12'></a>\r\n",
        "###Learning Curve of loss and accuracy"
      ]
    },
    {
      "cell_type": "code",
      "metadata": {
        "id": "5v-b3mKa3uUW",
        "colab": {
          "base_uri": "https://localhost:8080/",
          "height": 313
        },
        "outputId": "22dc3890-1aa9-4a69-b5d0-e07e86abffc6"
      },
      "source": [
        "s, (at, al) = plt.subplots(2,1)\r\n",
        "at.plot(history.history['accuracy'], c= 'b')\r\n",
        "at.plot(history.history['val_accuracy'], c='r')\r\n",
        "at.set_title('model accuracy')\r\n",
        "at.set_ylabel('accuracy')\r\n",
        "at.set_xlabel('epoch')\r\n",
        "at.legend(['LSTM_train', 'LSTM_val'], loc='upper left')\r\n",
        "\r\n",
        "al.plot(history.history['loss'], c='m')\r\n",
        "al.plot(history.history['val_loss'], c='c')\r\n",
        "al.set_title('model loss')\r\n",
        "al.set_ylabel('loss')\r\n",
        "al.set_xlabel('epoch')\r\n",
        "al.legend(['train', 'val'], loc = 'upper left')"
      ],
      "execution_count": 104,
      "outputs": [
        {
          "output_type": "execute_result",
          "data": {
            "text/plain": [
              "<matplotlib.legend.Legend at 0x7fea19367f90>"
            ]
          },
          "metadata": {
            "tags": []
          },
          "execution_count": 104
        },
        {
          "output_type": "display_data",
          "data": {
            "image/png": "[encoded data removed]",
            "text/plain": [
              "<Figure size 432x288 with 2 Axes>"
            ]
          },
          "metadata": {
            "tags": [],
            "needs_background": "light"
          }
        }
      ]
    },
    {
      "cell_type": "code",
      "metadata": {
        "id": "gAasDd1F3uRe",
        "colab": {
          "base_uri": "https://localhost:8080/"
        },
        "outputId": "b4b47fec-f268-476b-e334-284b79f3cb50"
      },
      "source": [
        "def decode_sentiment(score):\r\n",
        "    return \"Positive\" if score>0.5 else \"Negative\"\r\n",
        "\r\n",
        "\r\n",
        "scores = model.predict(x_test, verbose=1, batch_size=10000)\r\n",
        "y_pred_1d = [decode_sentiment(score) for score in scores]"
      ],
      "execution_count": 105,
      "outputs": [
        {
          "output_type": "stream",
          "text": [
            "32/32 [==============================] - 5s 144ms/step\n"
          ],
          "name": "stdout"
        }
      ]
    },
    {
      "cell_type": "markdown",
      "metadata": {
        "id": "ADmBCxr235hK"
      },
      "source": [
        "<a name='12'></a>\r\n",
        "###Confusion matrix"
      ]
    },
    {
      "cell_type": "code",
      "metadata": {
        "id": "wAaZOjOk3uO7"
      },
      "source": [
        "import itertools\r\n",
        "from sklearn.metrics import confusion_matrix, classification_report, accuracy_score\r\n",
        "def plot_confusion_matrix(cm, classes,\r\n",
        "                          title='Confusion matrix',\r\n",
        "                          cmap=plt.cm.Blues):\r\n",
        "    \"\"\"\r\n",
        "    This function prints and plots the confusion matrix.\r\n",
        "    Normalization can be applied by setting `normalize=True`.\r\n",
        "    \"\"\"\r\n",
        "\r\n",
        "    cm = cm.astype('float') / cm.sum(axis=1)[:, np.newaxis]\r\n",
        "\r\n",
        "    plt.imshow(cm, interpolation='nearest', cmap=cmap)\r\n",
        "    plt.title(title, fontsize=20)\r\n",
        "    plt.colorbar()\r\n",
        "    tick_marks = np.arange(len(classes))\r\n",
        "    plt.xticks(tick_marks, classes, fontsize=13)\r\n",
        "    plt.yticks(tick_marks, classes, fontsize=13)\r\n",
        "\r\n",
        "    fmt = '.2f'\r\n",
        "    thresh = cm.max() / 2.\r\n",
        "    for i, j in itertools.product(range(cm.shape[0]), range(cm.shape[1])):\r\n",
        "        plt.text(j, i, format(cm[i, j], fmt),\r\n",
        "                 horizontalalignment=\"center\",\r\n",
        "                 color=\"white\" if cm[i, j] > thresh else \"black\")\r\n",
        "\r\n",
        "    plt.ylabel('True label', fontsize=17)\r\n",
        "    plt.xlabel('Predicted label', fontsize=17)"
      ],
      "execution_count": 106,
      "outputs": []
    },
    {
      "cell_type": "code",
      "metadata": {
        "id": "EIJ_mgOI3uMR",
        "colab": {
          "base_uri": "https://localhost:8080/",
          "height": 370
        },
        "outputId": "274d749c-7f3d-4284-ee56-84faa0e652d2"
      },
      "source": [
        "cnf_matrix = confusion_matrix(test_data.sentiment.to_list(), y_pred_1d)\r\n",
        "plt.figure(figsize=(6,6))\r\n",
        "plot_confusion_matrix(cnf_matrix, classes=test_data.sentiment.unique(), title=\"Confusion matrix\")\r\n",
        "plt.show()"
      ],
      "execution_count": 107,
      "outputs": [
        {
          "output_type": "display_data",
          "data": {
            "image/png": "[encoded data removed]",
            "text/plain": [
              "<Figure size 432x432 with 2 Axes>"
            ]
          },
          "metadata": {
            "tags": [],
            "needs_background": "light"
          }
        }
      ]
    },
    {
      "cell_type": "markdown",
      "metadata": {
        "id": "gmze7FCb39yq"
      },
      "source": [
        "<a name='14'></a>\r\n",
        "###Classification scores"
      ]
    },
    {
      "cell_type": "code",
      "metadata": {
        "id": "qDza-6fY3uJc",
        "colab": {
          "base_uri": "https://localhost:8080/"
        },
        "outputId": "25d68a5a-8df5-4696-f2d9-b4274313bfed"
      },
      "source": [
        "print(classification_report(list(test_data.sentiment), y_pred_1d))"
      ],
      "execution_count": 108,
      "outputs": [
        {
          "output_type": "stream",
          "text": [
            "              precision    recall  f1-score   support\n",
            "\n",
            "    Negative       0.82      0.82      0.82    160336\n",
            "    Positive       0.82      0.82      0.82    159664\n",
            "\n",
            "    accuracy                           0.82    320000\n",
            "   macro avg       0.82      0.82      0.82    320000\n",
            "weighted avg       0.82      0.82      0.82    320000\n",
            "\n"
          ],
          "name": "stdout"
        }
      ]
    }
  ]
}